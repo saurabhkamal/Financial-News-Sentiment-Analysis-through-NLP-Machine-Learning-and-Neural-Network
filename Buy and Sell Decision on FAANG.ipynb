{
 "cells": [
  {
   "cell_type": "markdown",
   "metadata": {},
   "source": [
    "### Reading Full Economic News dataset and converting it into Global_headlines_df dataframe"
   ]
  },
  {
   "cell_type": "code",
   "execution_count": 75,
   "metadata": {},
   "outputs": [],
   "source": [
    "import pandas as pd\n",
    "import numpy as np\n",
    "\n",
    "# import pandas_datareader as pdr\n",
    "import matplotlib.pyplot as plt"
   ]
  },
  {
   "cell_type": "code",
   "execution_count": 76,
   "metadata": {},
   "outputs": [],
   "source": [
    "global_headlines_df = pd.read_csv(\"Full-Economic-News.csv\", encoding = \"ISO-8859-1\")"
   ]
  },
  {
   "cell_type": "code",
   "execution_count": 77,
   "metadata": {},
   "outputs": [
    {
     "data": {
      "text/html": [
       "<div>\n",
       "<style scoped>\n",
       "    .dataframe tbody tr th:only-of-type {\n",
       "        vertical-align: middle;\n",
       "    }\n",
       "\n",
       "    .dataframe tbody tr th {\n",
       "        vertical-align: top;\n",
       "    }\n",
       "\n",
       "    .dataframe thead th {\n",
       "        text-align: right;\n",
       "    }\n",
       "</style>\n",
       "<table border=\"1\" class=\"dataframe\">\n",
       "  <thead>\n",
       "    <tr style=\"text-align: right;\">\n",
       "      <th></th>\n",
       "      <th>_unit_id</th>\n",
       "      <th>_golden</th>\n",
       "      <th>_unit_state</th>\n",
       "      <th>_trusted_judgments</th>\n",
       "      <th>_last_judgment_at</th>\n",
       "      <th>positivity</th>\n",
       "      <th>positivity:confidence</th>\n",
       "      <th>relevance</th>\n",
       "      <th>relevance:confidence</th>\n",
       "      <th>articleid</th>\n",
       "      <th>date</th>\n",
       "      <th>headline</th>\n",
       "      <th>positivity_gold</th>\n",
       "      <th>relevance_gold</th>\n",
       "      <th>text</th>\n",
       "    </tr>\n",
       "  </thead>\n",
       "  <tbody>\n",
       "    <tr>\n",
       "      <th>0</th>\n",
       "      <td>842613455</td>\n",
       "      <td>False</td>\n",
       "      <td>finalized</td>\n",
       "      <td>3</td>\n",
       "      <td>12/5/2015 17:48</td>\n",
       "      <td>3.0</td>\n",
       "      <td>0.6400</td>\n",
       "      <td>yes</td>\n",
       "      <td>0.640</td>\n",
       "      <td>wsj_398217788</td>\n",
       "      <td>8/14/1991</td>\n",
       "      <td>Yields on CDs Fell in the Latest Week</td>\n",
       "      <td>NaN</td>\n",
       "      <td>NaN</td>\n",
       "      <td>NEW YORK -- Yields on most certificates of dep...</td>\n",
       "    </tr>\n",
       "    <tr>\n",
       "      <th>1</th>\n",
       "      <td>842613456</td>\n",
       "      <td>False</td>\n",
       "      <td>finalized</td>\n",
       "      <td>3</td>\n",
       "      <td>12/5/2015 16:54</td>\n",
       "      <td>NaN</td>\n",
       "      <td>NaN</td>\n",
       "      <td>no</td>\n",
       "      <td>1.000</td>\n",
       "      <td>wsj_399019502</td>\n",
       "      <td>8/21/2007</td>\n",
       "      <td>The Morning Brief: White House Seeks to Limit ...</td>\n",
       "      <td>NaN</td>\n",
       "      <td>NaN</td>\n",
       "      <td>The Wall Street Journal Online&lt;/br&gt;&lt;/br&gt;The Mo...</td>\n",
       "    </tr>\n",
       "    <tr>\n",
       "      <th>2</th>\n",
       "      <td>842613457</td>\n",
       "      <td>False</td>\n",
       "      <td>finalized</td>\n",
       "      <td>3</td>\n",
       "      <td>12/5/2015 1:59</td>\n",
       "      <td>NaN</td>\n",
       "      <td>NaN</td>\n",
       "      <td>no</td>\n",
       "      <td>1.000</td>\n",
       "      <td>wsj_398284048</td>\n",
       "      <td>11/14/1991</td>\n",
       "      <td>Banking Bill Negotiators Set Compromise --- Pl...</td>\n",
       "      <td>NaN</td>\n",
       "      <td>NaN</td>\n",
       "      <td>WASHINGTON -- In an effort to achieve banking ...</td>\n",
       "    </tr>\n",
       "    <tr>\n",
       "      <th>3</th>\n",
       "      <td>842613458</td>\n",
       "      <td>False</td>\n",
       "      <td>finalized</td>\n",
       "      <td>3</td>\n",
       "      <td>12/5/2015 2:19</td>\n",
       "      <td>NaN</td>\n",
       "      <td>0.0000</td>\n",
       "      <td>no</td>\n",
       "      <td>0.675</td>\n",
       "      <td>wsj_397959018</td>\n",
       "      <td>6/16/1986</td>\n",
       "      <td>Manager's Journal: Sniffing Out Drug Abusers I...</td>\n",
       "      <td>NaN</td>\n",
       "      <td>NaN</td>\n",
       "      <td>The statistics on the enormous costs of employ...</td>\n",
       "    </tr>\n",
       "    <tr>\n",
       "      <th>4</th>\n",
       "      <td>842613459</td>\n",
       "      <td>False</td>\n",
       "      <td>finalized</td>\n",
       "      <td>3</td>\n",
       "      <td>12/5/2015 17:48</td>\n",
       "      <td>3.0</td>\n",
       "      <td>0.3257</td>\n",
       "      <td>yes</td>\n",
       "      <td>0.640</td>\n",
       "      <td>wsj_398838054</td>\n",
       "      <td>10/4/2002</td>\n",
       "      <td>Currency Trading: Dollar Remains in Tight Rang...</td>\n",
       "      <td>NaN</td>\n",
       "      <td>NaN</td>\n",
       "      <td>NEW YORK -- Indecision marked the dollar's ton...</td>\n",
       "    </tr>\n",
       "  </tbody>\n",
       "</table>\n",
       "</div>"
      ],
      "text/plain": [
       "    _unit_id  _golden _unit_state  _trusted_judgments _last_judgment_at  \\\n",
       "0  842613455    False   finalized                   3   12/5/2015 17:48   \n",
       "1  842613456    False   finalized                   3   12/5/2015 16:54   \n",
       "2  842613457    False   finalized                   3    12/5/2015 1:59   \n",
       "3  842613458    False   finalized                   3    12/5/2015 2:19   \n",
       "4  842613459    False   finalized                   3   12/5/2015 17:48   \n",
       "\n",
       "   positivity  positivity:confidence relevance  relevance:confidence  \\\n",
       "0         3.0                 0.6400       yes                 0.640   \n",
       "1         NaN                    NaN        no                 1.000   \n",
       "2         NaN                    NaN        no                 1.000   \n",
       "3         NaN                 0.0000        no                 0.675   \n",
       "4         3.0                 0.3257       yes                 0.640   \n",
       "\n",
       "       articleid        date  \\\n",
       "0  wsj_398217788   8/14/1991   \n",
       "1  wsj_399019502   8/21/2007   \n",
       "2  wsj_398284048  11/14/1991   \n",
       "3  wsj_397959018   6/16/1986   \n",
       "4  wsj_398838054   10/4/2002   \n",
       "\n",
       "                                            headline  positivity_gold  \\\n",
       "0              Yields on CDs Fell in the Latest Week              NaN   \n",
       "1  The Morning Brief: White House Seeks to Limit ...              NaN   \n",
       "2  Banking Bill Negotiators Set Compromise --- Pl...              NaN   \n",
       "3  Manager's Journal: Sniffing Out Drug Abusers I...              NaN   \n",
       "4  Currency Trading: Dollar Remains in Tight Rang...              NaN   \n",
       "\n",
       "   relevance_gold                                               text  \n",
       "0             NaN  NEW YORK -- Yields on most certificates of dep...  \n",
       "1             NaN  The Wall Street Journal Online</br></br>The Mo...  \n",
       "2             NaN  WASHINGTON -- In an effort to achieve banking ...  \n",
       "3             NaN  The statistics on the enormous costs of employ...  \n",
       "4             NaN  NEW YORK -- Indecision marked the dollar's ton...  "
      ]
     },
     "execution_count": 77,
     "metadata": {},
     "output_type": "execute_result"
    }
   ],
   "source": [
    "global_headlines_df.head()"
   ]
  },
  {
   "cell_type": "code",
   "execution_count": 78,
   "metadata": {},
   "outputs": [
    {
     "data": {
      "text/plain": [
       "_unit_id                                                         842614327\n",
       "_golden                                                              False\n",
       "_unit_state                                                      finalized\n",
       "_trusted_judgments                                                       3\n",
       "_last_judgment_at                                           12/5/2015 6:08\n",
       "positivity                                                             NaN\n",
       "positivity:confidence                                                  NaN\n",
       "relevance                                                               no\n",
       "relevance:confidence                                                     1\n",
       "articleid                                                    wsj_237967207\n",
       "date                                                             3/29/2010\n",
       "headline                            Apple Shares Rise Ahead of iPad Launch\n",
       "positivity_gold                                                        NaN\n",
       "relevance_gold                                                         NaN\n",
       "text                     Apple Inc. shares set an all-time high Monday ...\n",
       "Name: 868, dtype: object"
      ]
     },
     "execution_count": 78,
     "metadata": {},
     "output_type": "execute_result"
    }
   ],
   "source": [
    "global_headlines_df.iloc[868]\n",
    "#Sample apple news"
   ]
  },
  {
   "cell_type": "code",
   "execution_count": 79,
   "metadata": {},
   "outputs": [],
   "source": [
    "global_headlines_df = global_headlines_df.loc[:,['date','articleid','headline']]"
   ]
  },
  {
   "cell_type": "code",
   "execution_count": 80,
   "metadata": {},
   "outputs": [
    {
     "data": {
      "text/html": [
       "<div>\n",
       "<style scoped>\n",
       "    .dataframe tbody tr th:only-of-type {\n",
       "        vertical-align: middle;\n",
       "    }\n",
       "\n",
       "    .dataframe tbody tr th {\n",
       "        vertical-align: top;\n",
       "    }\n",
       "\n",
       "    .dataframe thead th {\n",
       "        text-align: right;\n",
       "    }\n",
       "</style>\n",
       "<table border=\"1\" class=\"dataframe\">\n",
       "  <thead>\n",
       "    <tr style=\"text-align: right;\">\n",
       "      <th></th>\n",
       "      <th>date</th>\n",
       "      <th>articleid</th>\n",
       "      <th>headline</th>\n",
       "    </tr>\n",
       "  </thead>\n",
       "  <tbody>\n",
       "    <tr>\n",
       "      <th>0</th>\n",
       "      <td>8/14/1991</td>\n",
       "      <td>wsj_398217788</td>\n",
       "      <td>Yields on CDs Fell in the Latest Week</td>\n",
       "    </tr>\n",
       "    <tr>\n",
       "      <th>1</th>\n",
       "      <td>8/21/2007</td>\n",
       "      <td>wsj_399019502</td>\n",
       "      <td>The Morning Brief: White House Seeks to Limit ...</td>\n",
       "    </tr>\n",
       "    <tr>\n",
       "      <th>2</th>\n",
       "      <td>11/14/1991</td>\n",
       "      <td>wsj_398284048</td>\n",
       "      <td>Banking Bill Negotiators Set Compromise --- Pl...</td>\n",
       "    </tr>\n",
       "    <tr>\n",
       "      <th>3</th>\n",
       "      <td>6/16/1986</td>\n",
       "      <td>wsj_397959018</td>\n",
       "      <td>Manager's Journal: Sniffing Out Drug Abusers I...</td>\n",
       "    </tr>\n",
       "    <tr>\n",
       "      <th>4</th>\n",
       "      <td>10/4/2002</td>\n",
       "      <td>wsj_398838054</td>\n",
       "      <td>Currency Trading: Dollar Remains in Tight Rang...</td>\n",
       "    </tr>\n",
       "  </tbody>\n",
       "</table>\n",
       "</div>"
      ],
      "text/plain": [
       "         date      articleid  \\\n",
       "0   8/14/1991  wsj_398217788   \n",
       "1   8/21/2007  wsj_399019502   \n",
       "2  11/14/1991  wsj_398284048   \n",
       "3   6/16/1986  wsj_397959018   \n",
       "4   10/4/2002  wsj_398838054   \n",
       "\n",
       "                                            headline  \n",
       "0              Yields on CDs Fell in the Latest Week  \n",
       "1  The Morning Brief: White House Seeks to Limit ...  \n",
       "2  Banking Bill Negotiators Set Compromise --- Pl...  \n",
       "3  Manager's Journal: Sniffing Out Drug Abusers I...  \n",
       "4  Currency Trading: Dollar Remains in Tight Rang...  "
      ]
     },
     "execution_count": 80,
     "metadata": {},
     "output_type": "execute_result"
    }
   ],
   "source": [
    "global_headlines_df.head()"
   ]
  },
  {
   "cell_type": "code",
   "execution_count": 81,
   "metadata": {},
   "outputs": [
    {
     "data": {
      "text/plain": [
       "date                                      3/29/2010\n",
       "articleid                             wsj_237967207\n",
       "headline     Apple Shares Rise Ahead of iPad Launch\n",
       "Name: 868, dtype: object"
      ]
     },
     "execution_count": 81,
     "metadata": {},
     "output_type": "execute_result"
    }
   ],
   "source": [
    "global_headlines_df.iloc[868]\n",
    "#Sample apple news"
   ]
  },
  {
   "cell_type": "code",
   "execution_count": 82,
   "metadata": {},
   "outputs": [],
   "source": [
    "# Convert time column in date-time format\n",
    "global_headlines_df['date'] = pd.to_datetime(global_headlines_df['date'], utc=True)"
   ]
  },
  {
   "cell_type": "markdown",
   "metadata": {},
   "source": [
    "### Calculating the compounder score by VADER Lexicon"
   ]
  },
  {
   "cell_type": "code",
   "execution_count": 83,
   "metadata": {},
   "outputs": [
    {
     "data": {
      "text/html": [
       "<div>\n",
       "<style scoped>\n",
       "    .dataframe tbody tr th:only-of-type {\n",
       "        vertical-align: middle;\n",
       "    }\n",
       "\n",
       "    .dataframe tbody tr th {\n",
       "        vertical-align: top;\n",
       "    }\n",
       "\n",
       "    .dataframe thead th {\n",
       "        text-align: right;\n",
       "    }\n",
       "</style>\n",
       "<table border=\"1\" class=\"dataframe\">\n",
       "  <thead>\n",
       "    <tr style=\"text-align: right;\">\n",
       "      <th></th>\n",
       "      <th>date</th>\n",
       "      <th>articleid</th>\n",
       "      <th>headline</th>\n",
       "      <th>compound_vader_score</th>\n",
       "    </tr>\n",
       "  </thead>\n",
       "  <tbody>\n",
       "    <tr>\n",
       "      <th>0</th>\n",
       "      <td>1991-11-14 00:00:00+00:00</td>\n",
       "      <td>wsj_398284048</td>\n",
       "      <td>Banking Bill Negotiators Set Compromise --- Pl...</td>\n",
       "      <td>0.2960</td>\n",
       "    </tr>\n",
       "    <tr>\n",
       "      <th>1</th>\n",
       "      <td>1986-06-16 00:00:00+00:00</td>\n",
       "      <td>wsj_397959018</td>\n",
       "      <td>Manager's Journal: Sniffing Out Drug Abusers I...</td>\n",
       "      <td>-0.7003</td>\n",
       "    </tr>\n",
       "    <tr>\n",
       "      <th>2</th>\n",
       "      <td>2001-05-24 00:00:00+00:00</td>\n",
       "      <td>wsj_398739166</td>\n",
       "      <td>Bank of Montreal, Royal Bank Profits Rose in 2...</td>\n",
       "      <td>0.4404</td>\n",
       "    </tr>\n",
       "    <tr>\n",
       "      <th>3</th>\n",
       "      <td>1986-10-22 00:00:00+00:00</td>\n",
       "      <td>wsj_397957465</td>\n",
       "      <td>Battle Over Medical Costs Isn't Over</td>\n",
       "      <td>-0.3818</td>\n",
       "    </tr>\n",
       "    <tr>\n",
       "      <th>4</th>\n",
       "      <td>2005-12-08 00:00:00+00:00</td>\n",
       "      <td>wsj_399004010</td>\n",
       "      <td>Dow Falls 45.95, Late GM Surge Stanches Losses</td>\n",
       "      <td>-0.4019</td>\n",
       "    </tr>\n",
       "    <tr>\n",
       "      <th>...</th>\n",
       "      <td>...</td>\n",
       "      <td>...</td>\n",
       "      <td>...</td>\n",
       "      <td>...</td>\n",
       "    </tr>\n",
       "    <tr>\n",
       "      <th>4841</th>\n",
       "      <td>1960-10-08 00:00:00+00:00</td>\n",
       "      <td>wapo_141184715</td>\n",
       "      <td>Stocks Rise for Third Straight Session: Better...</td>\n",
       "      <td>0.7579</td>\n",
       "    </tr>\n",
       "    <tr>\n",
       "      <th>4842</th>\n",
       "      <td>1952-02-11 00:00:00+00:00</td>\n",
       "      <td>wapo_152454634</td>\n",
       "      <td>Sawyer Sees Strong Economy For 2 Years, Truce ...</td>\n",
       "      <td>0.5106</td>\n",
       "    </tr>\n",
       "    <tr>\n",
       "      <th>4843</th>\n",
       "      <td>2009-12-13 00:00:00+00:00</td>\n",
       "      <td>wapo_410349039</td>\n",
       "      <td>Oil's losses are airlines' gains</td>\n",
       "      <td>-0.0772</td>\n",
       "    </tr>\n",
       "    <tr>\n",
       "      <th>4844</th>\n",
       "      <td>2009-12-18 00:00:00+00:00</td>\n",
       "      <td>wapo_410346237</td>\n",
       "      <td>Full Senate to vote on Bernanke; PANEL ADVANCE...</td>\n",
       "      <td>-0.3612</td>\n",
       "    </tr>\n",
       "    <tr>\n",
       "      <th>4845</th>\n",
       "      <td>1995-01-10 00:00:00+00:00</td>\n",
       "      <td>wapo_307808606</td>\n",
       "      <td>Reinventing Opportunities</td>\n",
       "      <td>0.3818</td>\n",
       "    </tr>\n",
       "  </tbody>\n",
       "</table>\n",
       "<p>4846 rows × 4 columns</p>\n",
       "</div>"
      ],
      "text/plain": [
       "                          date       articleid  \\\n",
       "0    1991-11-14 00:00:00+00:00   wsj_398284048   \n",
       "1    1986-06-16 00:00:00+00:00   wsj_397959018   \n",
       "2    2001-05-24 00:00:00+00:00   wsj_398739166   \n",
       "3    1986-10-22 00:00:00+00:00   wsj_397957465   \n",
       "4    2005-12-08 00:00:00+00:00   wsj_399004010   \n",
       "...                        ...             ...   \n",
       "4841 1960-10-08 00:00:00+00:00  wapo_141184715   \n",
       "4842 1952-02-11 00:00:00+00:00  wapo_152454634   \n",
       "4843 2009-12-13 00:00:00+00:00  wapo_410349039   \n",
       "4844 2009-12-18 00:00:00+00:00  wapo_410346237   \n",
       "4845 1995-01-10 00:00:00+00:00  wapo_307808606   \n",
       "\n",
       "                                               headline  compound_vader_score  \n",
       "0     Banking Bill Negotiators Set Compromise --- Pl...                0.2960  \n",
       "1     Manager's Journal: Sniffing Out Drug Abusers I...               -0.7003  \n",
       "2     Bank of Montreal, Royal Bank Profits Rose in 2...                0.4404  \n",
       "3                  Battle Over Medical Costs Isn't Over               -0.3818  \n",
       "4        Dow Falls 45.95, Late GM Surge Stanches Losses               -0.4019  \n",
       "...                                                 ...                   ...  \n",
       "4841  Stocks Rise for Third Straight Session: Better...                0.7579  \n",
       "4842  Sawyer Sees Strong Economy For 2 Years, Truce ...                0.5106  \n",
       "4843                   Oil's losses are airlines' gains               -0.0772  \n",
       "4844  Full Senate to vote on Bernanke; PANEL ADVANCE...               -0.3612  \n",
       "4845                          Reinventing Opportunities                0.3818  \n",
       "\n",
       "[4846 rows x 4 columns]"
      ]
     },
     "execution_count": 83,
     "metadata": {},
     "output_type": "execute_result"
    }
   ],
   "source": [
    "from nltk.sentiment.vader import SentimentIntensityAnalyzer\n",
    "\n",
    "analyzer = SentimentIntensityAnalyzer()\n",
    "\n",
    "cs = []\n",
    "for row in range(len(global_headlines_df)):\n",
    "    cs.append(analyzer.polarity_scores(global_headlines_df['headline'].iloc[row])['compound'])\n",
    "\n",
    "global_headlines_df['compound_vader_score'] = cs\n",
    "global_headlines_df = global_headlines_df[(global_headlines_df[['compound_vader_score']] != 0).all(axis=1)].reset_index(drop=True)\n",
    "\n",
    "global_headlines_df"
   ]
  },
  {
   "cell_type": "code",
   "execution_count": 84,
   "metadata": {},
   "outputs": [],
   "source": [
    "# Converts dataframe into a downloadable csv\n",
    "global_headlines_df.to_csv('global_headlines_df.csv')"
   ]
  },
  {
   "cell_type": "markdown",
   "metadata": {},
   "source": [
    "### Extracting Tech Stocks specifically FAANG"
   ]
  },
  {
   "cell_type": "code",
   "execution_count": 85,
   "metadata": {},
   "outputs": [],
   "source": [
    "# global_headlines_df\n",
    "global_headlines_df_corrected = pd.read_csv(\"global_headlines_df.csv\", encoding = \"ISO-8859-1\", chunksize=10000)\n",
    "\n",
    "# Create empty lists\n",
    "fb_data = []\n",
    "aapl_data = []\n",
    "amzn_data = []\n",
    "nflx_data = []\n",
    "goog_data = []\n",
    "msft_data = []\n",
    "csco_data = []\n",
    "orcl_data = []"
   ]
  },
  {
   "cell_type": "code",
   "execution_count": 86,
   "metadata": {},
   "outputs": [
    {
     "data": {
      "text/plain": [
       "pandas.io.parsers.TextFileReader"
      ]
     },
     "execution_count": 86,
     "metadata": {},
     "output_type": "execute_result"
    }
   ],
   "source": [
    "type(global_headlines_df_corrected)"
   ]
  },
  {
   "cell_type": "markdown",
   "metadata": {},
   "source": [
    "for df in global_headlines_df_corrected:\n",
    "    # Select the headlines with the word 'apple' or 'aapl'\n",
    "    data = df.loc[(df.headline.str.contains('apple', case=False))|(df.headline.str.contains('AAPL', case=False))]\n",
    "    # Append the data into the empty aapl_data created\n",
    "    aapl_data.append(data)\n",
    "\n",
    "    # Select the headlines with the word 'amazon' or 'amzn'\n",
    "    data = df.loc[(df.headline.str.contains('amazon', case=False))|(df.headline.str.contains('AMZN', case=False))]\n",
    "    # Append the data into the empty amzn_data created\n",
    "    amzn_data.append(data)\n",
    "\n",
    "    # Select the headlines with the word 'microsoft' or 'msft'\n",
    "    data = df.loc[(df.headline.str.contains('microsoft', case=False))|(df.headline.str.contains('MSFT', case=False))]\n",
    "    # Append the data into the empty msft_data created\n",
    "    msft_data.append(data)\n",
    "    \n",
    "    # Select the headlines with the word 'apple' or 'aapl'\n",
    "    data = df.loc[(df.headline.str.contains('google', case=False))|(df.headline.str.contains('GOOG', case=False))]\n",
    "    # Append the data into the empty aapl_data created\n",
    "    goog_data.append(data)\n",
    "\n",
    "    # Select the headlines with the word 'amazon' or 'amzn'\n",
    "    data = df.loc[(df.headline.str.contains('cisco', case=False))|(df.headline.str.contains('CSCO', case=False))]\n",
    "    # Append the data into the empty amzn_data created\n",
    "    csco_data.append(data)\n",
    "\n",
    "    # Select the headlines with the word 'microsoft' or 'msft'\n",
    "    data = df.loc[(df.headline.str.contains('oracle', case=False))|(df.headline.str.contains('ORCL', case=False))]\n",
    "    # Append the data into the empty msft_data created\n",
    "    orcl_data.append(data)\n",
    "    \n",
    "     # Select the headlines with the word 'amazon' or 'amzn'\n",
    "    data = df.loc[(df.headline.str.contains('facebook', case=False))|(df.headline.str.contains('FB', case=False))]\n",
    "    # Append the data into the empty amzn_data created\n",
    "    csco_data.append(data)\n",
    "\n",
    "    # Select the headlines with the word 'microsoft' or 'msft'\n",
    "    data = df.loc[(df.headline.str.contains('netflix', case=False))|(df.headline.str.contains('NFLX', case=False))]\n",
    "    # Append the data into the empty msft_data created\n",
    "    orcl_data.append(data)"
   ]
  },
  {
   "cell_type": "code",
   "execution_count": 87,
   "metadata": {},
   "outputs": [],
   "source": [
    "for df in global_headlines_df_corrected:\n",
    "    # Select the headlines with the word 'apple' or 'aapl'\n",
    "    data = df.loc[(df.headline.str.contains('facebook', case=False))|(df.headline.str.contains('FB', case=False))]\n",
    "    # Append the data into the empty aapl_data created\n",
    "    fb_data.append(data)\n",
    "\n",
    "    # Select the headlines with the word 'amazon' or 'amzn'\n",
    "    data = df.loc[(df.headline.str.contains('apple', case=False))|(df.headline.str.contains('AAPL', case=False))]\n",
    "    # Append the data into the empty amzn_data created\n",
    "    aapl_data.append(data)\n",
    "\n",
    "    # Select the headlines with the word 'microsoft' or 'msft'\n",
    "    data = df.loc[(df.headline.str.contains('amazon', case=False))|(df.headline.str.contains('AMZN', case=False))]\n",
    "    # Append the data into the empty msft_data created\n",
    "    amzn_data.append(data)\n",
    "    \n",
    "    # Select the headlines with the word 'apple' or 'aapl'\n",
    "    data = df.loc[(df.headline.str.contains('netflix', case=False))|(df.headline.str.contains('NFLX', case=False))]\n",
    "    # Append the data into the empty aapl_data created\n",
    "    nflx_data.append(data)\n",
    "\n",
    "    # Select the headlines with the word 'amazon' or 'amzn'\n",
    "    data = df.loc[(df.headline.str.contains('google', case=False))|(df.headline.str.contains('GOOG', case=False))]\n",
    "    # Append the data into the empty amzn_data created\n",
    "    goog_data.append(data)\n",
    "\n",
    "    # Select the headlines with the word 'microsoft' or 'msft'\n",
    "    data = df.loc[(df.headline.str.contains('microsoft', case=False))|(df.headline.str.contains('MSFT', case=False))]\n",
    "    # Append the data into the empty msft_data created\n",
    "    msft_data.append(data)\n",
    "    \n",
    "     # Select the headlines with the word 'amazon' or 'amzn'\n",
    "    data = df.loc[(df.headline.str.contains('cisco', case=False))|(df.headline.str.contains('CSCO', case=False))]\n",
    "    # Append the data into the empty amzn_data created\n",
    "    csco_data.append(data)\n",
    "\n",
    "    # Select the headlines with the word 'microsoft' or 'msft'\n",
    "    data = df.loc[(df.headline.str.contains('oracle', case=False))|(df.headline.str.contains('ORCL', case=False))]\n",
    "    # Append the data into the empty msft_data created\n",
    "    orcl_data.append(data)"
   ]
  },
  {
   "cell_type": "markdown",
   "metadata": {},
   "source": [
    "### Facebook"
   ]
  },
  {
   "cell_type": "code",
   "execution_count": 88,
   "metadata": {},
   "outputs": [
    {
     "data": {
      "text/plain": [
       "[      Unnamed: 0                       date        articleid  \\\n",
       " 99            99  2012-08-17 00:00:00+00:00   wsj_1033786353   \n",
       " 235          235  2013-04-24 00:00:00+00:00   wsj_1338076013   \n",
       " 289          289  2011-10-06 00:00:00+00:00    wsj_896375093   \n",
       " 554          554  2013-10-28 00:00:00+00:00   wsj_1445876626   \n",
       " 1428        1428  2012-05-15 00:00:00+00:00   wsj_1013602460   \n",
       " 1955        1955  2012-08-18 00:00:00+00:00   wsj_1034504951   \n",
       " 3601        3601  1996-09-23 00:00:00+00:00  wapo_1034075080   \n",
       " 4709        4709  2004-04-25 00:00:00+00:00   wapo_409625065   \n",
       " \n",
       "                                                headline  compound_vader_score  \n",
       " 99                         Facebook Awaits Index 'Like'                0.0772  \n",
       " 235         Nasdaq Aims to Pay Up In SEC Facebook Probe               -0.1027  \n",
       " 289                    Fever Breaks for Facebook Shares                0.2960  \n",
       " 554   Valuing Twitter vs. Facebook; Which IPO Is the...                0.3400  \n",
       " 1428                In Facebook IPO, Frenzy, Skepticism               -0.5106  \n",
       " 1955                       Facebook Awaits Index 'Like'                0.0772  \n",
       " 3601  Fed Requests Probe to Find Source of Leak: Jus...                0.6124  \n",
       " 4709  Picking Good Financial Stocks; FBR's Ellison F...                0.6124  ]"
      ]
     },
     "execution_count": 88,
     "metadata": {},
     "output_type": "execute_result"
    }
   ],
   "source": [
    "fb_data"
   ]
  },
  {
   "cell_type": "markdown",
   "metadata": {},
   "source": [
    "### Amazon"
   ]
  },
  {
   "cell_type": "code",
   "execution_count": 89,
   "metadata": {},
   "outputs": [
    {
     "data": {
      "text/plain": [
       "[     Unnamed: 0                       date      articleid  \\\n",
       " 744         744  2000-07-26 00:00:00+00:00  wsj_398780819   \n",
       " \n",
       "                                          headline  compound_vader_score  \n",
       " 744  Joe Galli Quits Amazon to Be VerticalNet CEO                0.1779  ]"
      ]
     },
     "execution_count": 89,
     "metadata": {},
     "output_type": "execute_result"
    }
   ],
   "source": [
    "amzn_data"
   ]
  },
  {
   "cell_type": "markdown",
   "metadata": {},
   "source": [
    "### APPLE"
   ]
  },
  {
   "cell_type": "code",
   "execution_count": 90,
   "metadata": {},
   "outputs": [
    {
     "data": {
      "text/plain": [
       "[      Unnamed: 0                       date       articleid  \\\n",
       " 521          521  2006-04-07 00:00:00+00:00   wsj_398930204   \n",
       " 547          547  2010-03-29 00:00:00+00:00   wsj_237967207   \n",
       " 1009        1009  1991-02-19 00:00:00+00:00   wsj_398216821   \n",
       " 1127        1127  1996-02-14 00:00:00+00:00   wsj_398478666   \n",
       " 1144        1144  2007-08-16 00:00:00+00:00   wsj_399105391   \n",
       " 1927        1927  2005-01-25 00:00:00+00:00   wsj_398903824   \n",
       " 4023        4023  1992-03-09 00:00:00+00:00  wapo_140597381   \n",
       " \n",
       "                                                headline  compound_vader_score  \n",
       " 521   Merck Shares Weigh on Blue Chips; Industrials,...                0.2960  \n",
       " 547              Apple Shares Rise Ahead of iPad Launch                0.2960  \n",
       " 1009  Hard Times for Big Apple Real Estate --- Comme...               -0.1027  \n",
       " 1127          Apple suspends its dividend due to losses               -0.4019  \n",
       " 1144  Apple's iWork Package Is Elegant but Wimpy Com...               -0.0772  \n",
       " 1927  Cost-Cutting Airlines Grapple With Issue of Ex...               -0.1027  \n",
       " 4023  JANE APPLEGATE: Looking for Ways to Cut Costs?...               -0.2732  ]"
      ]
     },
     "execution_count": 90,
     "metadata": {},
     "output_type": "execute_result"
    }
   ],
   "source": [
    "aapl_data"
   ]
  },
  {
   "cell_type": "markdown",
   "metadata": {},
   "source": [
    "### NETFLIX"
   ]
  },
  {
   "cell_type": "code",
   "execution_count": 91,
   "metadata": {},
   "outputs": [
    {
     "data": {
      "text/plain": [
       "[Empty DataFrame\n",
       " Columns: [Unnamed: 0, date, articleid, headline, compound_vader_score]\n",
       " Index: []]"
      ]
     },
     "execution_count": 91,
     "metadata": {},
     "output_type": "execute_result"
    }
   ],
   "source": [
    "nflx_data"
   ]
  },
  {
   "cell_type": "markdown",
   "metadata": {},
   "source": [
    "### GOOGLE"
   ]
  },
  {
   "cell_type": "code",
   "execution_count": 92,
   "metadata": {},
   "outputs": [
    {
     "data": {
      "text/plain": [
       "[      Unnamed: 0                       date       articleid  \\\n",
       " 11            11  2010-04-14 00:00:00+00:00   wsj_237984569   \n",
       " 337          337  2006-03-10 00:00:00+00:00   wsj_398937927   \n",
       " 776          776  2004-10-13 00:00:00+00:00   wsj_398885043   \n",
       " 1655        1655  2006-03-03 00:00:00+00:00   wsj_398936792   \n",
       " 2150        2150  2007-01-13 00:00:00+00:00   wsj_398993972   \n",
       " 2305        2305  2004-11-17 00:00:00+00:00   wsj_398954099   \n",
       " 3309        3309  2004-08-24 00:00:00+00:00  wapo_409677659   \n",
       " 3938        3938  2007-03-07 00:00:00+00:00  wapo_410209719   \n",
       " \n",
       "                                                headline  compound_vader_score  \n",
       " 11    Tech Sector in Hiring Drive; Google, Intel Add...                0.4767  \n",
       " 337   Google, Broadcom Slump; GM Rises; Nasdaq Falls...                0.2960  \n",
       " 776   Yahoo Profit More Than Triples; 4th-Quarter Fo...                0.8979  \n",
       " 1655   Google Shares Rise as Company Reassures Analysts                0.5719  \n",
       " 2150  Exxon Mobil Gain Helps Boost Blue Chips to Ano...                0.9186  \n",
       " 2305  Google Drops 6.7% as Investors Are Freed to Se...                0.4019  \n",
       " 3309       IPO's Success Doesn't Justify Google's Price                0.5719  \n",
       " 3938          Microsoft Attacks Google Over Book Search               -0.4404  ]"
      ]
     },
     "execution_count": 92,
     "metadata": {},
     "output_type": "execute_result"
    }
   ],
   "source": [
    "goog_data"
   ]
  },
  {
   "cell_type": "markdown",
   "metadata": {},
   "source": [
    "### MICROSOFT"
   ]
  },
  {
   "cell_type": "code",
   "execution_count": 93,
   "metadata": {},
   "outputs": [
    {
     "data": {
      "text/plain": [
       "[      Unnamed: 0                       date       articleid  \\\n",
       " 137          137  2010-07-15 00:00:00+00:00   wsj_609546500   \n",
       " 246          246  2000-02-10 00:00:00+00:00   wsj_398704161   \n",
       " 630          630  2000-06-07 00:00:00+00:00   wsj_398781031   \n",
       " 1735        1735  2013-07-18 00:00:00+00:00  wsj_1400845094   \n",
       " 1869        1869  1999-08-25 00:00:00+00:00   wsj_398711106   \n",
       " 2877        2877  2008-05-06 00:00:00+00:00  wapo_410263307   \n",
       " 3938        3938  2007-03-07 00:00:00+00:00  wapo_410209719   \n",
       " \n",
       "                                                headline  compound_vader_score  \n",
       " 137   Large Stock Focus: Microsoft, Cisco, H-P Intel...                0.5267  \n",
       " 246   Stocks Fall Across Board as Tech Issues Such a...                0.4588  \n",
       " 630   Microsoft Investors Worry About `Conduct Remed...               -0.4404  \n",
       " 1735  Microsoft Earnings: Another Big Miss; Surface ...               -0.1531  \n",
       " 1869  Microsoft and Other Tech Stocks Post Gains Aft...                0.3400  \n",
       " 2877  Shares Fall as Oil Hits New High, Microsoft Wi...                0.2960  \n",
       " 3938          Microsoft Attacks Google Over Book Search               -0.4404  ]"
      ]
     },
     "execution_count": 93,
     "metadata": {},
     "output_type": "execute_result"
    }
   ],
   "source": [
    "msft_data"
   ]
  },
  {
   "cell_type": "markdown",
   "metadata": {},
   "source": [
    "### CISCO"
   ]
  },
  {
   "cell_type": "code",
   "execution_count": 94,
   "metadata": {},
   "outputs": [
    {
     "data": {
      "text/plain": [
       "[      Unnamed: 0                       date       articleid  \\\n",
       " 65            65  2006-08-10 00:00:00+00:00   wsj_399011767   \n",
       " 137          137  2010-07-15 00:00:00+00:00   wsj_609546500   \n",
       " 702          702  1998-01-09 00:00:00+00:00   wsj_398637155   \n",
       " 1154        1154  2012-05-30 00:00:00+00:00  wsj_1017695033   \n",
       " 1696        1696  2001-02-08 00:00:00+00:00   wsj_398786091   \n",
       " \n",
       "                                                headline  compound_vader_score  \n",
       " 65    Cisco and Charles River Soar; Hospira, Toll Br...               -0.5994  \n",
       " 137   Large Stock Focus: Microsoft, Cisco, H-P Intel...                0.5267  \n",
       " 702   Home Price Forecast '98: Booming Economy Boost...                0.3182  \n",
       " 1154  San Francisco--Silicon Valley North; City and ...                0.4215  \n",
       " 1696  Techs Take Hit Alongside Cisco; Clorox, P&G, Q...                0.5267  ]"
      ]
     },
     "execution_count": 94,
     "metadata": {},
     "output_type": "execute_result"
    }
   ],
   "source": [
    "csco_data"
   ]
  },
  {
   "cell_type": "markdown",
   "metadata": {},
   "source": [
    "### ORACLE"
   ]
  },
  {
   "cell_type": "code",
   "execution_count": 95,
   "metadata": {},
   "outputs": [
    {
     "data": {
      "text/plain": [
       "[      Unnamed: 0                       date       articleid  \\\n",
       " 43            43  2014-08-06 00:00:00+00:00  wsj_1551511676   \n",
       " 72            72  2006-09-21 00:00:00+00:00   wsj_398961634   \n",
       " 682          682  2006-12-20 00:00:00+00:00   wsj_399045670   \n",
       " 1279        1279  2001-06-19 00:00:00+00:00   wsj_398931822   \n",
       " \n",
       "                                                headline  compound_vader_score  \n",
       " 43    Planning 'Oracle' Robert Yaro to Retire from R...                0.3612  \n",
       " 72    Oracle Jumps 11% on Strong Growth; Circuit Cit...                0.8625  \n",
       " 682   Circuit City, Oracle Fall on Earnings; Electro...               -0.5267  \n",
       " 1279  Oracle's Earnings: No Bad News Is Good --- Tec...               -0.6124  ]"
      ]
     },
     "execution_count": 95,
     "metadata": {},
     "output_type": "execute_result"
    }
   ],
   "source": [
    "orcl_data"
   ]
  },
  {
   "cell_type": "code",
   "execution_count": 96,
   "metadata": {},
   "outputs": [],
   "source": [
    "# Concat data together\n",
    "fb_data = pd.concat(fb_data)\n",
    "aapl_data = pd.concat(aapl_data)\n",
    "amzn_data = pd.concat(amzn_data)\n",
    "goog_data = pd.concat(goog_data)\n",
    "msft_data = pd.concat(msft_data)\n",
    "csco_data = pd.concat(csco_data)\n",
    "orcl_data = pd.concat(orcl_data)"
   ]
  },
  {
   "cell_type": "markdown",
   "metadata": {},
   "source": [
    "### Facebook"
   ]
  },
  {
   "cell_type": "code",
   "execution_count": 97,
   "metadata": {},
   "outputs": [
    {
     "data": {
      "text/html": [
       "<div>\n",
       "<style scoped>\n",
       "    .dataframe tbody tr th:only-of-type {\n",
       "        vertical-align: middle;\n",
       "    }\n",
       "\n",
       "    .dataframe tbody tr th {\n",
       "        vertical-align: top;\n",
       "    }\n",
       "\n",
       "    .dataframe thead th {\n",
       "        text-align: right;\n",
       "    }\n",
       "</style>\n",
       "<table border=\"1\" class=\"dataframe\">\n",
       "  <thead>\n",
       "    <tr style=\"text-align: right;\">\n",
       "      <th></th>\n",
       "      <th>Unnamed: 0</th>\n",
       "      <th>date</th>\n",
       "      <th>articleid</th>\n",
       "      <th>headline</th>\n",
       "      <th>compound_vader_score</th>\n",
       "    </tr>\n",
       "  </thead>\n",
       "  <tbody>\n",
       "    <tr>\n",
       "      <th>99</th>\n",
       "      <td>99</td>\n",
       "      <td>2012-08-17 00:00:00+00:00</td>\n",
       "      <td>wsj_1033786353</td>\n",
       "      <td>Facebook Awaits Index 'Like'</td>\n",
       "      <td>0.0772</td>\n",
       "    </tr>\n",
       "    <tr>\n",
       "      <th>235</th>\n",
       "      <td>235</td>\n",
       "      <td>2013-04-24 00:00:00+00:00</td>\n",
       "      <td>wsj_1338076013</td>\n",
       "      <td>Nasdaq Aims to Pay Up In SEC Facebook Probe</td>\n",
       "      <td>-0.1027</td>\n",
       "    </tr>\n",
       "    <tr>\n",
       "      <th>289</th>\n",
       "      <td>289</td>\n",
       "      <td>2011-10-06 00:00:00+00:00</td>\n",
       "      <td>wsj_896375093</td>\n",
       "      <td>Fever Breaks for Facebook Shares</td>\n",
       "      <td>0.2960</td>\n",
       "    </tr>\n",
       "    <tr>\n",
       "      <th>554</th>\n",
       "      <td>554</td>\n",
       "      <td>2013-10-28 00:00:00+00:00</td>\n",
       "      <td>wsj_1445876626</td>\n",
       "      <td>Valuing Twitter vs. Facebook; Which IPO Is the...</td>\n",
       "      <td>0.3400</td>\n",
       "    </tr>\n",
       "    <tr>\n",
       "      <th>1428</th>\n",
       "      <td>1428</td>\n",
       "      <td>2012-05-15 00:00:00+00:00</td>\n",
       "      <td>wsj_1013602460</td>\n",
       "      <td>In Facebook IPO, Frenzy, Skepticism</td>\n",
       "      <td>-0.5106</td>\n",
       "    </tr>\n",
       "    <tr>\n",
       "      <th>1955</th>\n",
       "      <td>1955</td>\n",
       "      <td>2012-08-18 00:00:00+00:00</td>\n",
       "      <td>wsj_1034504951</td>\n",
       "      <td>Facebook Awaits Index 'Like'</td>\n",
       "      <td>0.0772</td>\n",
       "    </tr>\n",
       "    <tr>\n",
       "      <th>3601</th>\n",
       "      <td>3601</td>\n",
       "      <td>1996-09-23 00:00:00+00:00</td>\n",
       "      <td>wapo_1034075080</td>\n",
       "      <td>Fed Requests Probe to Find Source of Leak: Jus...</td>\n",
       "      <td>0.6124</td>\n",
       "    </tr>\n",
       "    <tr>\n",
       "      <th>4709</th>\n",
       "      <td>4709</td>\n",
       "      <td>2004-04-25 00:00:00+00:00</td>\n",
       "      <td>wapo_409625065</td>\n",
       "      <td>Picking Good Financial Stocks; FBR's Ellison F...</td>\n",
       "      <td>0.6124</td>\n",
       "    </tr>\n",
       "  </tbody>\n",
       "</table>\n",
       "</div>"
      ],
      "text/plain": [
       "      Unnamed: 0                       date        articleid  \\\n",
       "99            99  2012-08-17 00:00:00+00:00   wsj_1033786353   \n",
       "235          235  2013-04-24 00:00:00+00:00   wsj_1338076013   \n",
       "289          289  2011-10-06 00:00:00+00:00    wsj_896375093   \n",
       "554          554  2013-10-28 00:00:00+00:00   wsj_1445876626   \n",
       "1428        1428  2012-05-15 00:00:00+00:00   wsj_1013602460   \n",
       "1955        1955  2012-08-18 00:00:00+00:00   wsj_1034504951   \n",
       "3601        3601  1996-09-23 00:00:00+00:00  wapo_1034075080   \n",
       "4709        4709  2004-04-25 00:00:00+00:00   wapo_409625065   \n",
       "\n",
       "                                               headline  compound_vader_score  \n",
       "99                         Facebook Awaits Index 'Like'                0.0772  \n",
       "235         Nasdaq Aims to Pay Up In SEC Facebook Probe               -0.1027  \n",
       "289                    Fever Breaks for Facebook Shares                0.2960  \n",
       "554   Valuing Twitter vs. Facebook; Which IPO Is the...                0.3400  \n",
       "1428                In Facebook IPO, Frenzy, Skepticism               -0.5106  \n",
       "1955                       Facebook Awaits Index 'Like'                0.0772  \n",
       "3601  Fed Requests Probe to Find Source of Leak: Jus...                0.6124  \n",
       "4709  Picking Good Financial Stocks; FBR's Ellison F...                0.6124  "
      ]
     },
     "execution_count": 97,
     "metadata": {},
     "output_type": "execute_result"
    }
   ],
   "source": [
    "fb_data"
   ]
  },
  {
   "cell_type": "code",
   "execution_count": 98,
   "metadata": {},
   "outputs": [],
   "source": [
    "fb_data_1 = fb_data.loc[:,['headline','compound_vader_score']]"
   ]
  },
  {
   "cell_type": "code",
   "execution_count": 99,
   "metadata": {},
   "outputs": [
    {
     "data": {
      "text/html": [
       "<div>\n",
       "<style scoped>\n",
       "    .dataframe tbody tr th:only-of-type {\n",
       "        vertical-align: middle;\n",
       "    }\n",
       "\n",
       "    .dataframe tbody tr th {\n",
       "        vertical-align: top;\n",
       "    }\n",
       "\n",
       "    .dataframe thead th {\n",
       "        text-align: right;\n",
       "    }\n",
       "</style>\n",
       "<table border=\"1\" class=\"dataframe\">\n",
       "  <thead>\n",
       "    <tr style=\"text-align: right;\">\n",
       "      <th></th>\n",
       "      <th>headline</th>\n",
       "      <th>compound_vader_score</th>\n",
       "    </tr>\n",
       "  </thead>\n",
       "  <tbody>\n",
       "    <tr>\n",
       "      <th>99</th>\n",
       "      <td>Facebook Awaits Index 'Like'</td>\n",
       "      <td>0.0772</td>\n",
       "    </tr>\n",
       "    <tr>\n",
       "      <th>235</th>\n",
       "      <td>Nasdaq Aims to Pay Up In SEC Facebook Probe</td>\n",
       "      <td>-0.1027</td>\n",
       "    </tr>\n",
       "    <tr>\n",
       "      <th>289</th>\n",
       "      <td>Fever Breaks for Facebook Shares</td>\n",
       "      <td>0.2960</td>\n",
       "    </tr>\n",
       "    <tr>\n",
       "      <th>554</th>\n",
       "      <td>Valuing Twitter vs. Facebook; Which IPO Is the...</td>\n",
       "      <td>0.3400</td>\n",
       "    </tr>\n",
       "    <tr>\n",
       "      <th>1428</th>\n",
       "      <td>In Facebook IPO, Frenzy, Skepticism</td>\n",
       "      <td>-0.5106</td>\n",
       "    </tr>\n",
       "    <tr>\n",
       "      <th>1955</th>\n",
       "      <td>Facebook Awaits Index 'Like'</td>\n",
       "      <td>0.0772</td>\n",
       "    </tr>\n",
       "    <tr>\n",
       "      <th>3601</th>\n",
       "      <td>Fed Requests Probe to Find Source of Leak: Jus...</td>\n",
       "      <td>0.6124</td>\n",
       "    </tr>\n",
       "    <tr>\n",
       "      <th>4709</th>\n",
       "      <td>Picking Good Financial Stocks; FBR's Ellison F...</td>\n",
       "      <td>0.6124</td>\n",
       "    </tr>\n",
       "  </tbody>\n",
       "</table>\n",
       "</div>"
      ],
      "text/plain": [
       "                                               headline  compound_vader_score\n",
       "99                         Facebook Awaits Index 'Like'                0.0772\n",
       "235         Nasdaq Aims to Pay Up In SEC Facebook Probe               -0.1027\n",
       "289                    Fever Breaks for Facebook Shares                0.2960\n",
       "554   Valuing Twitter vs. Facebook; Which IPO Is the...                0.3400\n",
       "1428                In Facebook IPO, Frenzy, Skepticism               -0.5106\n",
       "1955                       Facebook Awaits Index 'Like'                0.0772\n",
       "3601  Fed Requests Probe to Find Source of Leak: Jus...                0.6124\n",
       "4709  Picking Good Financial Stocks; FBR's Ellison F...                0.6124"
      ]
     },
     "execution_count": 99,
     "metadata": {},
     "output_type": "execute_result"
    }
   ],
   "source": [
    "fb_data_1"
   ]
  },
  {
   "cell_type": "code",
   "execution_count": 100,
   "metadata": {},
   "outputs": [],
   "source": [
    "fb_data_1.loc[fb_data_1['compound_vader_score'] < 0, 'action_suggested'] = 'sell'\n",
    "fb_data_1.loc[fb_data_1['compound_vader_score'] > 0, 'action_suggested'] = 'buy'"
   ]
  },
  {
   "cell_type": "code",
   "execution_count": 101,
   "metadata": {},
   "outputs": [
    {
     "data": {
      "text/html": [
       "<div>\n",
       "<style scoped>\n",
       "    .dataframe tbody tr th:only-of-type {\n",
       "        vertical-align: middle;\n",
       "    }\n",
       "\n",
       "    .dataframe tbody tr th {\n",
       "        vertical-align: top;\n",
       "    }\n",
       "\n",
       "    .dataframe thead th {\n",
       "        text-align: right;\n",
       "    }\n",
       "</style>\n",
       "<table border=\"1\" class=\"dataframe\">\n",
       "  <thead>\n",
       "    <tr style=\"text-align: right;\">\n",
       "      <th></th>\n",
       "      <th>headline</th>\n",
       "      <th>compound_vader_score</th>\n",
       "      <th>action_suggested</th>\n",
       "    </tr>\n",
       "  </thead>\n",
       "  <tbody>\n",
       "    <tr>\n",
       "      <th>99</th>\n",
       "      <td>Facebook Awaits Index 'Like'</td>\n",
       "      <td>0.0772</td>\n",
       "      <td>buy</td>\n",
       "    </tr>\n",
       "    <tr>\n",
       "      <th>235</th>\n",
       "      <td>Nasdaq Aims to Pay Up In SEC Facebook Probe</td>\n",
       "      <td>-0.1027</td>\n",
       "      <td>sell</td>\n",
       "    </tr>\n",
       "    <tr>\n",
       "      <th>289</th>\n",
       "      <td>Fever Breaks for Facebook Shares</td>\n",
       "      <td>0.2960</td>\n",
       "      <td>buy</td>\n",
       "    </tr>\n",
       "    <tr>\n",
       "      <th>554</th>\n",
       "      <td>Valuing Twitter vs. Facebook; Which IPO Is the...</td>\n",
       "      <td>0.3400</td>\n",
       "      <td>buy</td>\n",
       "    </tr>\n",
       "    <tr>\n",
       "      <th>1428</th>\n",
       "      <td>In Facebook IPO, Frenzy, Skepticism</td>\n",
       "      <td>-0.5106</td>\n",
       "      <td>sell</td>\n",
       "    </tr>\n",
       "    <tr>\n",
       "      <th>1955</th>\n",
       "      <td>Facebook Awaits Index 'Like'</td>\n",
       "      <td>0.0772</td>\n",
       "      <td>buy</td>\n",
       "    </tr>\n",
       "    <tr>\n",
       "      <th>3601</th>\n",
       "      <td>Fed Requests Probe to Find Source of Leak: Jus...</td>\n",
       "      <td>0.6124</td>\n",
       "      <td>buy</td>\n",
       "    </tr>\n",
       "    <tr>\n",
       "      <th>4709</th>\n",
       "      <td>Picking Good Financial Stocks; FBR's Ellison F...</td>\n",
       "      <td>0.6124</td>\n",
       "      <td>buy</td>\n",
       "    </tr>\n",
       "  </tbody>\n",
       "</table>\n",
       "</div>"
      ],
      "text/plain": [
       "                                               headline  compound_vader_score  \\\n",
       "99                         Facebook Awaits Index 'Like'                0.0772   \n",
       "235         Nasdaq Aims to Pay Up In SEC Facebook Probe               -0.1027   \n",
       "289                    Fever Breaks for Facebook Shares                0.2960   \n",
       "554   Valuing Twitter vs. Facebook; Which IPO Is the...                0.3400   \n",
       "1428                In Facebook IPO, Frenzy, Skepticism               -0.5106   \n",
       "1955                       Facebook Awaits Index 'Like'                0.0772   \n",
       "3601  Fed Requests Probe to Find Source of Leak: Jus...                0.6124   \n",
       "4709  Picking Good Financial Stocks; FBR's Ellison F...                0.6124   \n",
       "\n",
       "     action_suggested  \n",
       "99                buy  \n",
       "235              sell  \n",
       "289               buy  \n",
       "554               buy  \n",
       "1428             sell  \n",
       "1955              buy  \n",
       "3601              buy  \n",
       "4709              buy  "
      ]
     },
     "execution_count": 101,
     "metadata": {},
     "output_type": "execute_result"
    }
   ],
   "source": [
    "fb_data_1"
   ]
  },
  {
   "cell_type": "code",
   "execution_count": 103,
   "metadata": {},
   "outputs": [],
   "source": [
    "fb_data_1.loc[fb_data_1['compound_vader_score'] < 0, 'sentiment_class'] = 'Negative'\n",
    "fb_data_1.loc[fb_data_1['compound_vader_score'] > 0, 'sentiment_class'] = 'Positive'"
   ]
  },
  {
   "cell_type": "code",
   "execution_count": 104,
   "metadata": {},
   "outputs": [
    {
     "data": {
      "text/html": [
       "<div>\n",
       "<style scoped>\n",
       "    .dataframe tbody tr th:only-of-type {\n",
       "        vertical-align: middle;\n",
       "    }\n",
       "\n",
       "    .dataframe tbody tr th {\n",
       "        vertical-align: top;\n",
       "    }\n",
       "\n",
       "    .dataframe thead th {\n",
       "        text-align: right;\n",
       "    }\n",
       "</style>\n",
       "<table border=\"1\" class=\"dataframe\">\n",
       "  <thead>\n",
       "    <tr style=\"text-align: right;\">\n",
       "      <th></th>\n",
       "      <th>headline</th>\n",
       "      <th>compound_vader_score</th>\n",
       "      <th>action_suggested</th>\n",
       "      <th>sentiment_class</th>\n",
       "    </tr>\n",
       "  </thead>\n",
       "  <tbody>\n",
       "    <tr>\n",
       "      <th>99</th>\n",
       "      <td>Facebook Awaits Index 'Like'</td>\n",
       "      <td>0.0772</td>\n",
       "      <td>buy</td>\n",
       "      <td>Positive</td>\n",
       "    </tr>\n",
       "    <tr>\n",
       "      <th>235</th>\n",
       "      <td>Nasdaq Aims to Pay Up In SEC Facebook Probe</td>\n",
       "      <td>-0.1027</td>\n",
       "      <td>sell</td>\n",
       "      <td>Negative</td>\n",
       "    </tr>\n",
       "    <tr>\n",
       "      <th>289</th>\n",
       "      <td>Fever Breaks for Facebook Shares</td>\n",
       "      <td>0.2960</td>\n",
       "      <td>buy</td>\n",
       "      <td>Positive</td>\n",
       "    </tr>\n",
       "    <tr>\n",
       "      <th>554</th>\n",
       "      <td>Valuing Twitter vs. Facebook; Which IPO Is the...</td>\n",
       "      <td>0.3400</td>\n",
       "      <td>buy</td>\n",
       "      <td>Positive</td>\n",
       "    </tr>\n",
       "    <tr>\n",
       "      <th>1428</th>\n",
       "      <td>In Facebook IPO, Frenzy, Skepticism</td>\n",
       "      <td>-0.5106</td>\n",
       "      <td>sell</td>\n",
       "      <td>Negative</td>\n",
       "    </tr>\n",
       "    <tr>\n",
       "      <th>1955</th>\n",
       "      <td>Facebook Awaits Index 'Like'</td>\n",
       "      <td>0.0772</td>\n",
       "      <td>buy</td>\n",
       "      <td>Positive</td>\n",
       "    </tr>\n",
       "    <tr>\n",
       "      <th>3601</th>\n",
       "      <td>Fed Requests Probe to Find Source of Leak: Jus...</td>\n",
       "      <td>0.6124</td>\n",
       "      <td>buy</td>\n",
       "      <td>Positive</td>\n",
       "    </tr>\n",
       "    <tr>\n",
       "      <th>4709</th>\n",
       "      <td>Picking Good Financial Stocks; FBR's Ellison F...</td>\n",
       "      <td>0.6124</td>\n",
       "      <td>buy</td>\n",
       "      <td>Positive</td>\n",
       "    </tr>\n",
       "  </tbody>\n",
       "</table>\n",
       "</div>"
      ],
      "text/plain": [
       "                                               headline  compound_vader_score  \\\n",
       "99                         Facebook Awaits Index 'Like'                0.0772   \n",
       "235         Nasdaq Aims to Pay Up In SEC Facebook Probe               -0.1027   \n",
       "289                    Fever Breaks for Facebook Shares                0.2960   \n",
       "554   Valuing Twitter vs. Facebook; Which IPO Is the...                0.3400   \n",
       "1428                In Facebook IPO, Frenzy, Skepticism               -0.5106   \n",
       "1955                       Facebook Awaits Index 'Like'                0.0772   \n",
       "3601  Fed Requests Probe to Find Source of Leak: Jus...                0.6124   \n",
       "4709  Picking Good Financial Stocks; FBR's Ellison F...                0.6124   \n",
       "\n",
       "     action_suggested sentiment_class  \n",
       "99                buy        Positive  \n",
       "235              sell        Negative  \n",
       "289               buy        Positive  \n",
       "554               buy        Positive  \n",
       "1428             sell        Negative  \n",
       "1955              buy        Positive  \n",
       "3601              buy        Positive  \n",
       "4709              buy        Positive  "
      ]
     },
     "execution_count": 104,
     "metadata": {},
     "output_type": "execute_result"
    }
   ],
   "source": [
    "fb_data_1"
   ]
  },
  {
   "cell_type": "code",
   "execution_count": 106,
   "metadata": {},
   "outputs": [],
   "source": [
    "fb_data_2 = fb_data_1.loc[:,['sentiment_class','compound_vader_score']]"
   ]
  },
  {
   "cell_type": "code",
   "execution_count": 107,
   "metadata": {},
   "outputs": [
    {
     "data": {
      "text/html": [
       "<div>\n",
       "<style scoped>\n",
       "    .dataframe tbody tr th:only-of-type {\n",
       "        vertical-align: middle;\n",
       "    }\n",
       "\n",
       "    .dataframe tbody tr th {\n",
       "        vertical-align: top;\n",
       "    }\n",
       "\n",
       "    .dataframe thead th {\n",
       "        text-align: right;\n",
       "    }\n",
       "</style>\n",
       "<table border=\"1\" class=\"dataframe\">\n",
       "  <thead>\n",
       "    <tr style=\"text-align: right;\">\n",
       "      <th></th>\n",
       "      <th>sentiment_class</th>\n",
       "      <th>compound_vader_score</th>\n",
       "    </tr>\n",
       "  </thead>\n",
       "  <tbody>\n",
       "    <tr>\n",
       "      <th>99</th>\n",
       "      <td>Positive</td>\n",
       "      <td>0.0772</td>\n",
       "    </tr>\n",
       "    <tr>\n",
       "      <th>235</th>\n",
       "      <td>Negative</td>\n",
       "      <td>-0.1027</td>\n",
       "    </tr>\n",
       "    <tr>\n",
       "      <th>289</th>\n",
       "      <td>Positive</td>\n",
       "      <td>0.2960</td>\n",
       "    </tr>\n",
       "    <tr>\n",
       "      <th>554</th>\n",
       "      <td>Positive</td>\n",
       "      <td>0.3400</td>\n",
       "    </tr>\n",
       "    <tr>\n",
       "      <th>1428</th>\n",
       "      <td>Negative</td>\n",
       "      <td>-0.5106</td>\n",
       "    </tr>\n",
       "    <tr>\n",
       "      <th>1955</th>\n",
       "      <td>Positive</td>\n",
       "      <td>0.0772</td>\n",
       "    </tr>\n",
       "    <tr>\n",
       "      <th>3601</th>\n",
       "      <td>Positive</td>\n",
       "      <td>0.6124</td>\n",
       "    </tr>\n",
       "    <tr>\n",
       "      <th>4709</th>\n",
       "      <td>Positive</td>\n",
       "      <td>0.6124</td>\n",
       "    </tr>\n",
       "  </tbody>\n",
       "</table>\n",
       "</div>"
      ],
      "text/plain": [
       "     sentiment_class  compound_vader_score\n",
       "99          Positive                0.0772\n",
       "235         Negative               -0.1027\n",
       "289         Positive                0.2960\n",
       "554         Positive                0.3400\n",
       "1428        Negative               -0.5106\n",
       "1955        Positive                0.0772\n",
       "3601        Positive                0.6124\n",
       "4709        Positive                0.6124"
      ]
     },
     "execution_count": 107,
     "metadata": {},
     "output_type": "execute_result"
    }
   ],
   "source": [
    "fb_data_2"
   ]
  },
  {
   "cell_type": "code",
   "execution_count": 108,
   "metadata": {},
   "outputs": [],
   "source": [
    "import matplotlib.pyplot as plt"
   ]
  },
  {
   "cell_type": "code",
   "execution_count": 111,
   "metadata": {},
   "outputs": [
    {
     "data": {
      "image/png": "[encoded data removed]",
      "text/plain": [
       "<Figure size 216x432 with 1 Axes>"
      ]
     },
     "metadata": {
      "needs_background": "light"
     },
     "output_type": "display_data"
    }
   ],
   "source": [
    "plt.figure(figsize=(3, 6))\n",
    "\n",
    "plt.bar(fb_data_2['sentiment_class'], fb_data_2['compound_vader_score'], color=['orange','blue'])\n",
    "plt.show()"
   ]
  },
  {
   "cell_type": "code",
   "execution_count": 113,
   "metadata": {},
   "outputs": [
    {
     "data": {
      "text/html": [
       "<div>\n",
       "<style scoped>\n",
       "    .dataframe tbody tr th:only-of-type {\n",
       "        vertical-align: middle;\n",
       "    }\n",
       "\n",
       "    .dataframe tbody tr th {\n",
       "        vertical-align: top;\n",
       "    }\n",
       "\n",
       "    .dataframe thead th {\n",
       "        text-align: right;\n",
       "    }\n",
       "</style>\n",
       "<table border=\"1\" class=\"dataframe\">\n",
       "  <thead>\n",
       "    <tr style=\"text-align: right;\">\n",
       "      <th></th>\n",
       "      <th>headline</th>\n",
       "      <th>compound_vader_score</th>\n",
       "      <th>action_suggested</th>\n",
       "      <th>sentiment_class</th>\n",
       "    </tr>\n",
       "  </thead>\n",
       "  <tbody>\n",
       "    <tr>\n",
       "      <th>99</th>\n",
       "      <td>Facebook Awaits Index 'Like'</td>\n",
       "      <td>0.0772</td>\n",
       "      <td>buy</td>\n",
       "      <td>Positive</td>\n",
       "    </tr>\n",
       "    <tr>\n",
       "      <th>235</th>\n",
       "      <td>Nasdaq Aims to Pay Up In SEC Facebook Probe</td>\n",
       "      <td>-0.1027</td>\n",
       "      <td>sell</td>\n",
       "      <td>Negative</td>\n",
       "    </tr>\n",
       "    <tr>\n",
       "      <th>289</th>\n",
       "      <td>Fever Breaks for Facebook Shares</td>\n",
       "      <td>0.2960</td>\n",
       "      <td>buy</td>\n",
       "      <td>Positive</td>\n",
       "    </tr>\n",
       "    <tr>\n",
       "      <th>554</th>\n",
       "      <td>Valuing Twitter vs. Facebook; Which IPO Is the...</td>\n",
       "      <td>0.3400</td>\n",
       "      <td>buy</td>\n",
       "      <td>Positive</td>\n",
       "    </tr>\n",
       "    <tr>\n",
       "      <th>1428</th>\n",
       "      <td>In Facebook IPO, Frenzy, Skepticism</td>\n",
       "      <td>-0.5106</td>\n",
       "      <td>sell</td>\n",
       "      <td>Negative</td>\n",
       "    </tr>\n",
       "    <tr>\n",
       "      <th>1955</th>\n",
       "      <td>Facebook Awaits Index 'Like'</td>\n",
       "      <td>0.0772</td>\n",
       "      <td>buy</td>\n",
       "      <td>Positive</td>\n",
       "    </tr>\n",
       "    <tr>\n",
       "      <th>3601</th>\n",
       "      <td>Fed Requests Probe to Find Source of Leak: Jus...</td>\n",
       "      <td>0.6124</td>\n",
       "      <td>buy</td>\n",
       "      <td>Positive</td>\n",
       "    </tr>\n",
       "    <tr>\n",
       "      <th>4709</th>\n",
       "      <td>Picking Good Financial Stocks; FBR's Ellison F...</td>\n",
       "      <td>0.6124</td>\n",
       "      <td>buy</td>\n",
       "      <td>Positive</td>\n",
       "    </tr>\n",
       "  </tbody>\n",
       "</table>\n",
       "</div>"
      ],
      "text/plain": [
       "                                               headline  compound_vader_score  \\\n",
       "99                         Facebook Awaits Index 'Like'                0.0772   \n",
       "235         Nasdaq Aims to Pay Up In SEC Facebook Probe               -0.1027   \n",
       "289                    Fever Breaks for Facebook Shares                0.2960   \n",
       "554   Valuing Twitter vs. Facebook; Which IPO Is the...                0.3400   \n",
       "1428                In Facebook IPO, Frenzy, Skepticism               -0.5106   \n",
       "1955                       Facebook Awaits Index 'Like'                0.0772   \n",
       "3601  Fed Requests Probe to Find Source of Leak: Jus...                0.6124   \n",
       "4709  Picking Good Financial Stocks; FBR's Ellison F...                0.6124   \n",
       "\n",
       "     action_suggested sentiment_class  \n",
       "99                buy        Positive  \n",
       "235              sell        Negative  \n",
       "289               buy        Positive  \n",
       "554               buy        Positive  \n",
       "1428             sell        Negative  \n",
       "1955              buy        Positive  \n",
       "3601              buy        Positive  \n",
       "4709              buy        Positive  "
      ]
     },
     "execution_count": 113,
     "metadata": {},
     "output_type": "execute_result"
    }
   ],
   "source": [
    "fb_data_1"
   ]
  },
  {
   "cell_type": "code",
   "execution_count": 114,
   "metadata": {},
   "outputs": [],
   "source": [
    "fb_data_3 = fb_data_1.loc[:,['action_suggested','compound_vader_score']]"
   ]
  },
  {
   "cell_type": "code",
   "execution_count": 115,
   "metadata": {},
   "outputs": [
    {
     "data": {
      "text/html": [
       "<div>\n",
       "<style scoped>\n",
       "    .dataframe tbody tr th:only-of-type {\n",
       "        vertical-align: middle;\n",
       "    }\n",
       "\n",
       "    .dataframe tbody tr th {\n",
       "        vertical-align: top;\n",
       "    }\n",
       "\n",
       "    .dataframe thead th {\n",
       "        text-align: right;\n",
       "    }\n",
       "</style>\n",
       "<table border=\"1\" class=\"dataframe\">\n",
       "  <thead>\n",
       "    <tr style=\"text-align: right;\">\n",
       "      <th></th>\n",
       "      <th>action_suggested</th>\n",
       "      <th>compound_vader_score</th>\n",
       "    </tr>\n",
       "  </thead>\n",
       "  <tbody>\n",
       "    <tr>\n",
       "      <th>99</th>\n",
       "      <td>buy</td>\n",
       "      <td>0.0772</td>\n",
       "    </tr>\n",
       "    <tr>\n",
       "      <th>235</th>\n",
       "      <td>sell</td>\n",
       "      <td>-0.1027</td>\n",
       "    </tr>\n",
       "    <tr>\n",
       "      <th>289</th>\n",
       "      <td>buy</td>\n",
       "      <td>0.2960</td>\n",
       "    </tr>\n",
       "    <tr>\n",
       "      <th>554</th>\n",
       "      <td>buy</td>\n",
       "      <td>0.3400</td>\n",
       "    </tr>\n",
       "    <tr>\n",
       "      <th>1428</th>\n",
       "      <td>sell</td>\n",
       "      <td>-0.5106</td>\n",
       "    </tr>\n",
       "    <tr>\n",
       "      <th>1955</th>\n",
       "      <td>buy</td>\n",
       "      <td>0.0772</td>\n",
       "    </tr>\n",
       "    <tr>\n",
       "      <th>3601</th>\n",
       "      <td>buy</td>\n",
       "      <td>0.6124</td>\n",
       "    </tr>\n",
       "    <tr>\n",
       "      <th>4709</th>\n",
       "      <td>buy</td>\n",
       "      <td>0.6124</td>\n",
       "    </tr>\n",
       "  </tbody>\n",
       "</table>\n",
       "</div>"
      ],
      "text/plain": [
       "     action_suggested  compound_vader_score\n",
       "99                buy                0.0772\n",
       "235              sell               -0.1027\n",
       "289               buy                0.2960\n",
       "554               buy                0.3400\n",
       "1428             sell               -0.5106\n",
       "1955              buy                0.0772\n",
       "3601              buy                0.6124\n",
       "4709              buy                0.6124"
      ]
     },
     "execution_count": 115,
     "metadata": {},
     "output_type": "execute_result"
    }
   ],
   "source": [
    "fb_data_3"
   ]
  },
  {
   "cell_type": "code",
   "execution_count": 118,
   "metadata": {},
   "outputs": [
    {
     "data": {
      "image/png": "[encoded data removed]",
      "text/plain": [
       "<Figure size 216x432 with 1 Axes>"
      ]
     },
     "metadata": {
      "needs_background": "light"
     },
     "output_type": "display_data"
    }
   ],
   "source": [
    "plt.figure(figsize=(3, 6))\n",
    "\n",
    "plt.bar(fb_data_3['action_suggested'], fb_data_2['compound_vader_score'], color=['red','green'])\n",
    "plt.show()"
   ]
  },
  {
   "cell_type": "code",
   "execution_count": 119,
   "metadata": {},
   "outputs": [],
   "source": [
    "Tech_capitalization_B = pd.read_csv(\"Tech Companies market capitalization (billions).csv\")"
   ]
  },
  {
   "cell_type": "code",
   "execution_count": 120,
   "metadata": {},
   "outputs": [
    {
     "data": {
      "text/html": [
       "<div>\n",
       "<style scoped>\n",
       "    .dataframe tbody tr th:only-of-type {\n",
       "        vertical-align: middle;\n",
       "    }\n",
       "\n",
       "    .dataframe tbody tr th {\n",
       "        vertical-align: top;\n",
       "    }\n",
       "\n",
       "    .dataframe thead th {\n",
       "        text-align: right;\n",
       "    }\n",
       "</style>\n",
       "<table border=\"1\" class=\"dataframe\">\n",
       "  <thead>\n",
       "    <tr style=\"text-align: right;\">\n",
       "      <th></th>\n",
       "      <th>Name</th>\n",
       "      <th>Market Cap(Billions)</th>\n",
       "    </tr>\n",
       "  </thead>\n",
       "  <tbody>\n",
       "    <tr>\n",
       "      <th>0</th>\n",
       "      <td>Cisco</td>\n",
       "      <td>$190.40</td>\n",
       "    </tr>\n",
       "    <tr>\n",
       "      <th>1</th>\n",
       "      <td>Oracle</td>\n",
       "      <td>$190.83</td>\n",
       "    </tr>\n",
       "    <tr>\n",
       "      <th>2</th>\n",
       "      <td>Netflix</td>\n",
       "      <td>$225.49</td>\n",
       "    </tr>\n",
       "    <tr>\n",
       "      <th>3</th>\n",
       "      <td>Facebook</td>\n",
       "      <td>$762.11</td>\n",
       "    </tr>\n",
       "    <tr>\n",
       "      <th>4</th>\n",
       "      <td>Tesla</td>\n",
       "      <td>$834.17</td>\n",
       "    </tr>\n",
       "  </tbody>\n",
       "</table>\n",
       "</div>"
      ],
      "text/plain": [
       "       Name Market Cap(Billions)\n",
       "0     Cisco             $190.40 \n",
       "1    Oracle             $190.83 \n",
       "2   Netflix             $225.49 \n",
       "3  Facebook             $762.11 \n",
       "4     Tesla             $834.17 "
      ]
     },
     "execution_count": 120,
     "metadata": {},
     "output_type": "execute_result"
    }
   ],
   "source": [
    "Tech_capitalization_B"
   ]
  },
  {
   "cell_type": "code",
   "execution_count": null,
   "metadata": {},
   "outputs": [],
   "source": [
    "msft_data"
   ]
  },
  {
   "cell_type": "code",
   "execution_count": null,
   "metadata": {},
   "outputs": [],
   "source": [
    "aapl_data"
   ]
  },
  {
   "cell_type": "code",
   "execution_count": 124,
   "metadata": {},
   "outputs": [
    {
     "data": {
      "text/html": [
       "<div>\n",
       "<style scoped>\n",
       "    .dataframe tbody tr th:only-of-type {\n",
       "        vertical-align: middle;\n",
       "    }\n",
       "\n",
       "    .dataframe tbody tr th {\n",
       "        vertical-align: top;\n",
       "    }\n",
       "\n",
       "    .dataframe thead th {\n",
       "        text-align: right;\n",
       "    }\n",
       "</style>\n",
       "<table border=\"1\" class=\"dataframe\">\n",
       "  <thead>\n",
       "    <tr style=\"text-align: right;\">\n",
       "      <th></th>\n",
       "      <th>Unnamed: 0</th>\n",
       "      <th>date</th>\n",
       "      <th>articleid</th>\n",
       "      <th>headline</th>\n",
       "      <th>compound_vader_score</th>\n",
       "    </tr>\n",
       "  </thead>\n",
       "  <tbody>\n",
       "    <tr>\n",
       "      <th>11</th>\n",
       "      <td>11</td>\n",
       "      <td>2010-04-14 00:00:00+00:00</td>\n",
       "      <td>wsj_237984569</td>\n",
       "      <td>Tech Sector in Hiring Drive; Google, Intel Add...</td>\n",
       "      <td>0.4767</td>\n",
       "    </tr>\n",
       "    <tr>\n",
       "      <th>337</th>\n",
       "      <td>337</td>\n",
       "      <td>2006-03-10 00:00:00+00:00</td>\n",
       "      <td>wsj_398937927</td>\n",
       "      <td>Google, Broadcom Slump; GM Rises; Nasdaq Falls...</td>\n",
       "      <td>0.2960</td>\n",
       "    </tr>\n",
       "    <tr>\n",
       "      <th>776</th>\n",
       "      <td>776</td>\n",
       "      <td>2004-10-13 00:00:00+00:00</td>\n",
       "      <td>wsj_398885043</td>\n",
       "      <td>Yahoo Profit More Than Triples; 4th-Quarter Fo...</td>\n",
       "      <td>0.8979</td>\n",
       "    </tr>\n",
       "    <tr>\n",
       "      <th>1655</th>\n",
       "      <td>1655</td>\n",
       "      <td>2006-03-03 00:00:00+00:00</td>\n",
       "      <td>wsj_398936792</td>\n",
       "      <td>Google Shares Rise as Company Reassures Analysts</td>\n",
       "      <td>0.5719</td>\n",
       "    </tr>\n",
       "    <tr>\n",
       "      <th>2150</th>\n",
       "      <td>2150</td>\n",
       "      <td>2007-01-13 00:00:00+00:00</td>\n",
       "      <td>wsj_398993972</td>\n",
       "      <td>Exxon Mobil Gain Helps Boost Blue Chips to Ano...</td>\n",
       "      <td>0.9186</td>\n",
       "    </tr>\n",
       "    <tr>\n",
       "      <th>2305</th>\n",
       "      <td>2305</td>\n",
       "      <td>2004-11-17 00:00:00+00:00</td>\n",
       "      <td>wsj_398954099</td>\n",
       "      <td>Google Drops 6.7% as Investors Are Freed to Se...</td>\n",
       "      <td>0.4019</td>\n",
       "    </tr>\n",
       "    <tr>\n",
       "      <th>3309</th>\n",
       "      <td>3309</td>\n",
       "      <td>2004-08-24 00:00:00+00:00</td>\n",
       "      <td>wapo_409677659</td>\n",
       "      <td>IPO's Success Doesn't Justify Google's Price</td>\n",
       "      <td>0.5719</td>\n",
       "    </tr>\n",
       "    <tr>\n",
       "      <th>3938</th>\n",
       "      <td>3938</td>\n",
       "      <td>2007-03-07 00:00:00+00:00</td>\n",
       "      <td>wapo_410209719</td>\n",
       "      <td>Microsoft Attacks Google Over Book Search</td>\n",
       "      <td>-0.4404</td>\n",
       "    </tr>\n",
       "  </tbody>\n",
       "</table>\n",
       "</div>"
      ],
      "text/plain": [
       "      Unnamed: 0                       date       articleid  \\\n",
       "11            11  2010-04-14 00:00:00+00:00   wsj_237984569   \n",
       "337          337  2006-03-10 00:00:00+00:00   wsj_398937927   \n",
       "776          776  2004-10-13 00:00:00+00:00   wsj_398885043   \n",
       "1655        1655  2006-03-03 00:00:00+00:00   wsj_398936792   \n",
       "2150        2150  2007-01-13 00:00:00+00:00   wsj_398993972   \n",
       "2305        2305  2004-11-17 00:00:00+00:00   wsj_398954099   \n",
       "3309        3309  2004-08-24 00:00:00+00:00  wapo_409677659   \n",
       "3938        3938  2007-03-07 00:00:00+00:00  wapo_410209719   \n",
       "\n",
       "                                               headline  compound_vader_score  \n",
       "11    Tech Sector in Hiring Drive; Google, Intel Add...                0.4767  \n",
       "337   Google, Broadcom Slump; GM Rises; Nasdaq Falls...                0.2960  \n",
       "776   Yahoo Profit More Than Triples; 4th-Quarter Fo...                0.8979  \n",
       "1655   Google Shares Rise as Company Reassures Analysts                0.5719  \n",
       "2150  Exxon Mobil Gain Helps Boost Blue Chips to Ano...                0.9186  \n",
       "2305  Google Drops 6.7% as Investors Are Freed to Se...                0.4019  \n",
       "3309       IPO's Success Doesn't Justify Google's Price                0.5719  \n",
       "3938          Microsoft Attacks Google Over Book Search               -0.4404  "
      ]
     },
     "execution_count": 124,
     "metadata": {},
     "output_type": "execute_result"
    }
   ],
   "source": [
    "goog_data"
   ]
  },
  {
   "cell_type": "code",
   "execution_count": null,
   "metadata": {},
   "outputs": [],
   "source": []
  },
  {
   "cell_type": "code",
   "execution_count": null,
   "metadata": {},
   "outputs": [],
   "source": [
    "# Create empty lists\n",
    "goog_data = []\n",
    "csco_data = []\n",
    "orcl_data = []"
   ]
  },
  {
   "cell_type": "code",
   "execution_count": null,
   "metadata": {},
   "outputs": [],
   "source": [
    "for df in global_headlines_df_corrected:\n",
    "    # Select the headlines with the word 'apple' or 'aapl'\n",
    "    data = df.loc[(df.headline.str.contains('google', case=False))|(df.headline.str.contains('GOOG', case=False))]\n",
    "    # Append the data into the empty aapl_data created\n",
    "    goog_data.append(data)\n",
    "\n",
    "    # Select the headlines with the word 'amazon' or 'amzn'\n",
    "    data = df.loc[(df.headline.str.contains('cisco', case=False))|(df.headline.str.contains('CSCO', case=False))]\n",
    "    # Append the data into the empty amzn_data created\n",
    "    csco_data.append(data)\n",
    "\n",
    "    # Select the headlines with the word 'microsoft' or 'msft'\n",
    "    data = df.loc[(df.headline.str.contains('oracle', case=False))|(df.headline.str.contains('ORCL', case=False))]\n",
    "    # Append the data into the empty msft_data created\n",
    "    orcl_data.append(data)"
   ]
  },
  {
   "cell_type": "code",
   "execution_count": null,
   "metadata": {},
   "outputs": [],
   "source": [
    "csco_data"
   ]
  },
  {
   "cell_type": "markdown",
   "metadata": {},
   "source": [
    "### First we calculated the compound score and sentiment class on the dataframe, then we extracted the Tech companies alongwith their compound scores and sentiment class, afterwhich we computed action suggested of buy and sell depending on the compound score. \n"
   ]
  },
  {
   "cell_type": "code",
   "execution_count": null,
   "metadata": {},
   "outputs": [],
   "source": []
  }
 ],
 "metadata": {
  "kernelspec": {
   "display_name": "Python 3 (ipykernel)",
   "language": "python",
   "name": "python3"
  },
  "language_info": {
   "codemirror_mode": {
    "name": "ipython",
    "version": 3
   },
   "file_extension": ".py",
   "mimetype": "text/x-python",
   "name": "python",
   "nbconvert_exporter": "python",
   "pygments_lexer": "ipython3",
   "version": "3.9.5"
  },
  "latex_envs": {
   "LaTeX_envs_menu_present": true,
   "autoclose": false,
   "autocomplete": true,
   "bibliofile": "biblio.bib",
   "cite_by": "apalike",
   "current_citInitial": 1,
   "eqLabelWithNumbers": true,
   "eqNumInitial": 1,
   "hotkeys": {
    "equation": "Ctrl-E",
    "itemize": "Ctrl-I"
   },
   "labels_anchors": false,
   "latex_user_defs": false,
   "report_style_numbering": false,
   "user_envs_cfg": false
  },
  "toc": {
   "base_numbering": 1,
   "nav_menu": {},
   "number_sections": true,
   "sideBar": true,
   "skip_h1_title": false,
   "title_cell": "Table of Contents",
   "title_sidebar": "Contents",
   "toc_cell": false,
   "toc_position": {},
   "toc_section_display": true,
   "toc_window_display": false
  },
  "varInspector": {
   "cols": {
    "lenName": 16,
    "lenType": 16,
    "lenVar": 40
   },
   "kernels_config": {
    "python": {
     "delete_cmd_postfix": "",
     "delete_cmd_prefix": "del ",
     "library": "var_list.py",
     "varRefreshCmd": "print(var_dic_list())"
    },
    "r": {
     "delete_cmd_postfix": ") ",
     "delete_cmd_prefix": "rm(",
     "library": "var_list.r",
     "varRefreshCmd": "cat(var_dic_list()) "
    }
   },
   "types_to_exclude": [
    "module",
    "function",
    "builtin_function_or_method",
    "instance",
    "_Feature"
   ],
   "window_display": false
  }
 },
 "nbformat": 4,
 "nbformat_minor": 4
}

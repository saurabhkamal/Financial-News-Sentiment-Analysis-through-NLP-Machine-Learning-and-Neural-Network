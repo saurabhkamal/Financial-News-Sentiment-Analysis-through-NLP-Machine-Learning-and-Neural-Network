{
 "cells": [
  {
   "cell_type": "code",
   "execution_count": 1,
   "id": "fd3dd1bc",
   "metadata": {},
   "outputs": [],
   "source": [
    "import pandas as pd\n",
    "import numpy as np"
   ]
  },
  {
   "cell_type": "code",
   "execution_count": 2,
   "id": "e42a1059",
   "metadata": {},
   "outputs": [
    {
     "data": {
      "text/html": [
       "<div>\n",
       "<style scoped>\n",
       "    .dataframe tbody tr th:only-of-type {\n",
       "        vertical-align: middle;\n",
       "    }\n",
       "\n",
       "    .dataframe tbody tr th {\n",
       "        vertical-align: top;\n",
       "    }\n",
       "\n",
       "    .dataframe thead th {\n",
       "        text-align: right;\n",
       "    }\n",
       "</style>\n",
       "<table border=\"1\" class=\"dataframe\">\n",
       "  <thead>\n",
       "    <tr style=\"text-align: right;\">\n",
       "      <th></th>\n",
       "      <th>Unnamed: 0</th>\n",
       "      <th>date</th>\n",
       "      <th>articleid</th>\n",
       "      <th>headline</th>\n",
       "      <th>compound_vader_score</th>\n",
       "    </tr>\n",
       "  </thead>\n",
       "  <tbody>\n",
       "    <tr>\n",
       "      <th>0</th>\n",
       "      <td>0</td>\n",
       "      <td>1991-11-14 00:00:00+00:00</td>\n",
       "      <td>wsj_398284048</td>\n",
       "      <td>Banking Bill Negotiators Set Compromise --- Pl...</td>\n",
       "      <td>0.2960</td>\n",
       "    </tr>\n",
       "    <tr>\n",
       "      <th>1</th>\n",
       "      <td>1</td>\n",
       "      <td>1986-06-16 00:00:00+00:00</td>\n",
       "      <td>wsj_397959018</td>\n",
       "      <td>Manager's Journal: Sniffing Out Drug Abusers I...</td>\n",
       "      <td>-0.7003</td>\n",
       "    </tr>\n",
       "    <tr>\n",
       "      <th>2</th>\n",
       "      <td>2</td>\n",
       "      <td>2001-05-24 00:00:00+00:00</td>\n",
       "      <td>wsj_398739166</td>\n",
       "      <td>Bank of Montreal, Royal Bank Profits Rose in 2...</td>\n",
       "      <td>0.4404</td>\n",
       "    </tr>\n",
       "    <tr>\n",
       "      <th>3</th>\n",
       "      <td>3</td>\n",
       "      <td>1986-10-22 00:00:00+00:00</td>\n",
       "      <td>wsj_397957465</td>\n",
       "      <td>Battle Over Medical Costs Isn't Over</td>\n",
       "      <td>-0.3818</td>\n",
       "    </tr>\n",
       "    <tr>\n",
       "      <th>4</th>\n",
       "      <td>4</td>\n",
       "      <td>2005-12-08 00:00:00+00:00</td>\n",
       "      <td>wsj_399004010</td>\n",
       "      <td>Dow Falls 45.95, Late GM Surge Stanches Losses</td>\n",
       "      <td>-0.4019</td>\n",
       "    </tr>\n",
       "  </tbody>\n",
       "</table>\n",
       "</div>"
      ],
      "text/plain": [
       "   Unnamed: 0                       date      articleid  \\\n",
       "0           0  1991-11-14 00:00:00+00:00  wsj_398284048   \n",
       "1           1  1986-06-16 00:00:00+00:00  wsj_397959018   \n",
       "2           2  2001-05-24 00:00:00+00:00  wsj_398739166   \n",
       "3           3  1986-10-22 00:00:00+00:00  wsj_397957465   \n",
       "4           4  2005-12-08 00:00:00+00:00  wsj_399004010   \n",
       "\n",
       "                                            headline  compound_vader_score  \n",
       "0  Banking Bill Negotiators Set Compromise --- Pl...                0.2960  \n",
       "1  Manager's Journal: Sniffing Out Drug Abusers I...               -0.7003  \n",
       "2  Bank of Montreal, Royal Bank Profits Rose in 2...                0.4404  \n",
       "3               Battle Over Medical Costs Isn't Over               -0.3818  \n",
       "4     Dow Falls 45.95, Late GM Surge Stanches Losses               -0.4019  "
      ]
     },
     "execution_count": 2,
     "metadata": {},
     "output_type": "execute_result"
    }
   ],
   "source": [
    "data = pd.read_csv('global_headlines_df.csv')\n",
    "data.head()"
   ]
  },
  {
   "cell_type": "code",
   "execution_count": 3,
   "id": "7c4b8dc8",
   "metadata": {},
   "outputs": [],
   "source": [
    "data = data.loc[:,['headline']]"
   ]
  },
  {
   "cell_type": "code",
   "execution_count": 4,
   "id": "ec8d98e7",
   "metadata": {},
   "outputs": [
    {
     "name": "stderr",
     "output_type": "stream",
     "text": [
      "[nltk_data] Downloading package vader_lexicon to C:\\Users\\Saurabh\n",
      "[nltk_data]     Kamal\\AppData\\Roaming\\nltk_data...\n",
      "[nltk_data]   Package vader_lexicon is already up-to-date!\n"
     ]
    },
    {
     "data": {
      "text/html": [
       "<div>\n",
       "<style scoped>\n",
       "    .dataframe tbody tr th:only-of-type {\n",
       "        vertical-align: middle;\n",
       "    }\n",
       "\n",
       "    .dataframe tbody tr th {\n",
       "        vertical-align: top;\n",
       "    }\n",
       "\n",
       "    .dataframe thead th {\n",
       "        text-align: right;\n",
       "    }\n",
       "</style>\n",
       "<table border=\"1\" class=\"dataframe\">\n",
       "  <thead>\n",
       "    <tr style=\"text-align: right;\">\n",
       "      <th></th>\n",
       "      <th>headline</th>\n",
       "      <th>compound_vader_score</th>\n",
       "    </tr>\n",
       "  </thead>\n",
       "  <tbody>\n",
       "    <tr>\n",
       "      <th>0</th>\n",
       "      <td>Banking Bill Negotiators Set Compromise --- Pl...</td>\n",
       "      <td>0.2960</td>\n",
       "    </tr>\n",
       "    <tr>\n",
       "      <th>1</th>\n",
       "      <td>Manager's Journal: Sniffing Out Drug Abusers I...</td>\n",
       "      <td>-0.7003</td>\n",
       "    </tr>\n",
       "    <tr>\n",
       "      <th>2</th>\n",
       "      <td>Bank of Montreal, Royal Bank Profits Rose in 2...</td>\n",
       "      <td>0.4404</td>\n",
       "    </tr>\n",
       "    <tr>\n",
       "      <th>3</th>\n",
       "      <td>Battle Over Medical Costs Isn't Over</td>\n",
       "      <td>-0.3818</td>\n",
       "    </tr>\n",
       "    <tr>\n",
       "      <th>4</th>\n",
       "      <td>Dow Falls 45.95, Late GM Surge Stanches Losses</td>\n",
       "      <td>-0.4019</td>\n",
       "    </tr>\n",
       "    <tr>\n",
       "      <th>...</th>\n",
       "      <td>...</td>\n",
       "      <td>...</td>\n",
       "    </tr>\n",
       "    <tr>\n",
       "      <th>4841</th>\n",
       "      <td>Stocks Rise for Third Straight Session: Better...</td>\n",
       "      <td>0.7579</td>\n",
       "    </tr>\n",
       "    <tr>\n",
       "      <th>4842</th>\n",
       "      <td>Sawyer Sees Strong Economy For 2 Years, Truce ...</td>\n",
       "      <td>0.5106</td>\n",
       "    </tr>\n",
       "    <tr>\n",
       "      <th>4843</th>\n",
       "      <td>Oil's losses are airlines' gains</td>\n",
       "      <td>-0.0772</td>\n",
       "    </tr>\n",
       "    <tr>\n",
       "      <th>4844</th>\n",
       "      <td>Full Senate to vote on Bernanke; PANEL ADVANCE...</td>\n",
       "      <td>-0.3612</td>\n",
       "    </tr>\n",
       "    <tr>\n",
       "      <th>4845</th>\n",
       "      <td>Reinventing Opportunities</td>\n",
       "      <td>0.3818</td>\n",
       "    </tr>\n",
       "  </tbody>\n",
       "</table>\n",
       "<p>4846 rows × 2 columns</p>\n",
       "</div>"
      ],
      "text/plain": [
       "                                               headline  compound_vader_score\n",
       "0     Banking Bill Negotiators Set Compromise --- Pl...                0.2960\n",
       "1     Manager's Journal: Sniffing Out Drug Abusers I...               -0.7003\n",
       "2     Bank of Montreal, Royal Bank Profits Rose in 2...                0.4404\n",
       "3                  Battle Over Medical Costs Isn't Over               -0.3818\n",
       "4        Dow Falls 45.95, Late GM Surge Stanches Losses               -0.4019\n",
       "...                                                 ...                   ...\n",
       "4841  Stocks Rise for Third Straight Session: Better...                0.7579\n",
       "4842  Sawyer Sees Strong Economy For 2 Years, Truce ...                0.5106\n",
       "4843                   Oil's losses are airlines' gains               -0.0772\n",
       "4844  Full Senate to vote on Bernanke; PANEL ADVANCE...               -0.3612\n",
       "4845                          Reinventing Opportunities                0.3818\n",
       "\n",
       "[4846 rows x 2 columns]"
      ]
     },
     "execution_count": 4,
     "metadata": {},
     "output_type": "execute_result"
    }
   ],
   "source": [
    "import nltk\n",
    "nltk.download('vader_lexicon')\n",
    "from nltk.sentiment.vader import SentimentIntensityAnalyzer\n",
    "\n",
    "analyzer = SentimentIntensityAnalyzer()\n",
    "\n",
    "cs = []\n",
    "for row in range(len(data)):\n",
    "    cs.append(analyzer.polarity_scores(data['headline'].iloc[row])['compound'])\n",
    "\n",
    "data['compound_vader_score'] = cs\n",
    "data = data[(data[['compound_vader_score']] != 0).all(axis=1)].reset_index(drop=True)\n",
    "\n",
    "data"
   ]
  },
  {
   "cell_type": "code",
   "execution_count": 5,
   "id": "39876e77",
   "metadata": {},
   "outputs": [],
   "source": [
    "data.loc[data['compound_vader_score'] < 0, 'sentiment_class'] = '0'\n",
    "data.loc[data['compound_vader_score'] > 0, 'sentiment_class'] = '1'"
   ]
  },
  {
   "cell_type": "code",
   "execution_count": 6,
   "id": "11b1d792",
   "metadata": {},
   "outputs": [
    {
     "data": {
      "text/plain": [
       "headline                 object\n",
       "compound_vader_score    float64\n",
       "sentiment_class          object\n",
       "dtype: object"
      ]
     },
     "execution_count": 6,
     "metadata": {},
     "output_type": "execute_result"
    }
   ],
   "source": [
    "data.dtypes"
   ]
  },
  {
   "cell_type": "code",
   "execution_count": 7,
   "id": "8b2b0201",
   "metadata": {},
   "outputs": [],
   "source": [
    "data['sentiment_class'] = data['sentiment_class'].astype('int64')"
   ]
  },
  {
   "cell_type": "code",
   "execution_count": 8,
   "id": "4dcdc6c2",
   "metadata": {},
   "outputs": [],
   "source": [
    "data.drop(['compound_vader_score'],axis=1,inplace=True)"
   ]
  },
  {
   "cell_type": "code",
   "execution_count": 9,
   "id": "61cdfc39",
   "metadata": {},
   "outputs": [
    {
     "data": {
      "text/html": [
       "<div>\n",
       "<style scoped>\n",
       "    .dataframe tbody tr th:only-of-type {\n",
       "        vertical-align: middle;\n",
       "    }\n",
       "\n",
       "    .dataframe tbody tr th {\n",
       "        vertical-align: top;\n",
       "    }\n",
       "\n",
       "    .dataframe thead th {\n",
       "        text-align: right;\n",
       "    }\n",
       "</style>\n",
       "<table border=\"1\" class=\"dataframe\">\n",
       "  <thead>\n",
       "    <tr style=\"text-align: right;\">\n",
       "      <th></th>\n",
       "      <th>headline</th>\n",
       "      <th>sentiment_class</th>\n",
       "    </tr>\n",
       "  </thead>\n",
       "  <tbody>\n",
       "    <tr>\n",
       "      <th>0</th>\n",
       "      <td>Banking Bill Negotiators Set Compromise --- Pl...</td>\n",
       "      <td>1</td>\n",
       "    </tr>\n",
       "    <tr>\n",
       "      <th>1</th>\n",
       "      <td>Manager's Journal: Sniffing Out Drug Abusers I...</td>\n",
       "      <td>0</td>\n",
       "    </tr>\n",
       "    <tr>\n",
       "      <th>2</th>\n",
       "      <td>Bank of Montreal, Royal Bank Profits Rose in 2...</td>\n",
       "      <td>1</td>\n",
       "    </tr>\n",
       "    <tr>\n",
       "      <th>3</th>\n",
       "      <td>Battle Over Medical Costs Isn't Over</td>\n",
       "      <td>0</td>\n",
       "    </tr>\n",
       "    <tr>\n",
       "      <th>4</th>\n",
       "      <td>Dow Falls 45.95, Late GM Surge Stanches Losses</td>\n",
       "      <td>0</td>\n",
       "    </tr>\n",
       "    <tr>\n",
       "      <th>...</th>\n",
       "      <td>...</td>\n",
       "      <td>...</td>\n",
       "    </tr>\n",
       "    <tr>\n",
       "      <th>4841</th>\n",
       "      <td>Stocks Rise for Third Straight Session: Better...</td>\n",
       "      <td>1</td>\n",
       "    </tr>\n",
       "    <tr>\n",
       "      <th>4842</th>\n",
       "      <td>Sawyer Sees Strong Economy For 2 Years, Truce ...</td>\n",
       "      <td>1</td>\n",
       "    </tr>\n",
       "    <tr>\n",
       "      <th>4843</th>\n",
       "      <td>Oil's losses are airlines' gains</td>\n",
       "      <td>0</td>\n",
       "    </tr>\n",
       "    <tr>\n",
       "      <th>4844</th>\n",
       "      <td>Full Senate to vote on Bernanke; PANEL ADVANCE...</td>\n",
       "      <td>0</td>\n",
       "    </tr>\n",
       "    <tr>\n",
       "      <th>4845</th>\n",
       "      <td>Reinventing Opportunities</td>\n",
       "      <td>1</td>\n",
       "    </tr>\n",
       "  </tbody>\n",
       "</table>\n",
       "<p>4846 rows × 2 columns</p>\n",
       "</div>"
      ],
      "text/plain": [
       "                                               headline  sentiment_class\n",
       "0     Banking Bill Negotiators Set Compromise --- Pl...                1\n",
       "1     Manager's Journal: Sniffing Out Drug Abusers I...                0\n",
       "2     Bank of Montreal, Royal Bank Profits Rose in 2...                1\n",
       "3                  Battle Over Medical Costs Isn't Over                0\n",
       "4        Dow Falls 45.95, Late GM Surge Stanches Losses                0\n",
       "...                                                 ...              ...\n",
       "4841  Stocks Rise for Third Straight Session: Better...                1\n",
       "4842  Sawyer Sees Strong Economy For 2 Years, Truce ...                1\n",
       "4843                   Oil's losses are airlines' gains                0\n",
       "4844  Full Senate to vote on Bernanke; PANEL ADVANCE...                0\n",
       "4845                          Reinventing Opportunities                1\n",
       "\n",
       "[4846 rows x 2 columns]"
      ]
     },
     "execution_count": 9,
     "metadata": {},
     "output_type": "execute_result"
    }
   ],
   "source": [
    "data"
   ]
  },
  {
   "cell_type": "code",
   "execution_count": 10,
   "id": "c26e1e34",
   "metadata": {},
   "outputs": [],
   "source": [
    "# lets perform this to our dataset\n",
    "# First, we need to split our data into train and test\n",
    "\n",
    "from sklearn.model_selection import train_test_split\n",
    "review = data['headline'].values\n",
    "label = data['sentiment_class'].values"
   ]
  },
  {
   "cell_type": "code",
   "execution_count": 11,
   "id": "dea637fa",
   "metadata": {},
   "outputs": [
    {
     "data": {
      "text/plain": [
       "array([\"Banking Bill Negotiators Set Compromise --- Plan to Widen Banks' Entry To Securities Business Is Dropped as Vote Nears\",\n",
       "       \"Manager's Journal: Sniffing Out Drug Abusers Is No Quick Fix\",\n",
       "       'Bank of Montreal, Royal Bank Profits Rose in 2nd Period', ...,\n",
       "       \"Oil's losses are airlines' gains\",\n",
       "       'Full Senate to vote on Bernanke; PANEL ADVANCES RENOMINATION Sharp debate hints at difficult confirmation',\n",
       "       'Reinventing Opportunities'], dtype=object)"
      ]
     },
     "execution_count": 11,
     "metadata": {},
     "output_type": "execute_result"
    }
   ],
   "source": [
    "review"
   ]
  },
  {
   "cell_type": "code",
   "execution_count": 12,
   "id": "18740ba5",
   "metadata": {},
   "outputs": [
    {
     "data": {
      "text/plain": [
       "array([1, 0, 1, ..., 0, 0, 1], dtype=int64)"
      ]
     },
     "execution_count": 12,
     "metadata": {},
     "output_type": "execute_result"
    }
   ],
   "source": [
    "label"
   ]
  },
  {
   "cell_type": "code",
   "execution_count": 13,
   "id": "af64eb8e",
   "metadata": {},
   "outputs": [],
   "source": [
    "review_train, review_test, label_train, label_test = train_test_split(review, label, test_size=0.25, random_state=1000)"
   ]
  },
  {
   "cell_type": "code",
   "execution_count": 14,
   "id": "15c58d80",
   "metadata": {},
   "outputs": [
    {
     "data": {
      "text/plain": [
       "<3634x6659 sparse matrix of type '<class 'numpy.float64'>'\n",
       "\twith 30697 stored elements in Compressed Sparse Row format>"
      ]
     },
     "execution_count": 14,
     "metadata": {},
     "output_type": "execute_result"
    }
   ],
   "source": [
    "from sklearn.feature_extraction.text import TfidfVectorizer\n",
    "review_vectorizer = TfidfVectorizer(smooth_idf=False, use_idf=True, stop_words='english', lowercase=True)\n",
    "review_vectorizer.fit(review_train)\n",
    "Xlr_train = review_vectorizer.transform(review_train)\n",
    "Xlr_test  = review_vectorizer.transform(review_test)\n",
    "Xlr_train\n",
    "                                    \n",
    "                                    "
   ]
  },
  {
   "cell_type": "markdown",
   "id": "35f4da55",
   "metadata": {},
   "source": [
    "### Logistic Regression"
   ]
  },
  {
   "cell_type": "code",
   "execution_count": 15,
   "id": "b18d82e2",
   "metadata": {},
   "outputs": [
    {
     "name": "stdout",
     "output_type": "stream",
     "text": [
      "Accuracy: 0.7978547854785478\n"
     ]
    }
   ],
   "source": [
    "from sklearn.linear_model import LogisticRegression\n",
    "LRmodel = LogisticRegression()\n",
    "LRmodel.fit(Xlr_train, label_train)\n",
    "score = LRmodel.score(Xlr_test, label_test)\n",
    "print(\"Accuracy:\", score)"
   ]
  },
  {
   "cell_type": "markdown",
   "id": "b42168ee",
   "metadata": {},
   "source": [
    "### CNN"
   ]
  },
  {
   "cell_type": "code",
   "execution_count": 16,
   "id": "334812e5",
   "metadata": {},
   "outputs": [
    {
     "name": "stdout",
     "output_type": "stream",
     "text": [
      "Dollar Ends Mixed As Action by Fed Eagerly Awaited ---- Special to The Wall Street Journal\n",
      "[25, 440, 142, 11, 418, 21, 14, 3502, 1471, 116, 1, 3, 70, 69, 240]\n"
     ]
    }
   ],
   "source": [
    "from keras.preprocessing.text import Tokenizer\n",
    "tokenizer = Tokenizer(num_words=5000)\n",
    "tokenizer.fit_on_texts(review_train)\n",
    "Xcnn_train = tokenizer.texts_to_sequences(review_train)\n",
    "Xcnn_test = tokenizer.texts_to_sequences(review_test)\n",
    "vocab_size = len(tokenizer.word_index) + 1\n",
    "print(review_train[1])\n",
    "print(Xcnn_train[1])"
   ]
  },
  {
   "cell_type": "code",
   "execution_count": 17,
   "id": "4f108887",
   "metadata": {},
   "outputs": [
    {
     "name": "stdout",
     "output_type": "stream",
     "text": [
      "[   3 2352 2353 3501  853    0    0    0    0    0    0    0    0    0\n",
      "    0    0    0    0    0    0    0    0    0    0    0    0    0    0\n",
      "    0    0    0    0    0    0    0    0    0    0    0    0    0    0\n",
      "    0    0    0    0    0    0    0    0    0    0    0    0    0    0\n",
      "    0    0    0    0    0    0    0    0    0    0    0    0    0    0\n",
      "    0    0    0    0    0    0    0    0    0    0    0    0    0    0\n",
      "    0    0    0    0    0    0    0    0    0    0    0    0    0    0\n",
      "    0    0]\n"
     ]
    }
   ],
   "source": [
    "from keras.preprocessing.sequence import pad_sequences\n",
    "maxlen = 100\n",
    "Xcnn_train = pad_sequences(Xcnn_train, padding='post', maxlen=maxlen)\n",
    "Xcnn_test = pad_sequences(Xcnn_test, padding='post', maxlen=maxlen)\n",
    "print(Xcnn_train[0, :])"
   ]
  },
  {
   "cell_type": "code",
   "execution_count": 18,
   "id": "1bc638f3",
   "metadata": {},
   "outputs": [],
   "source": [
    "from keras.models import Sequential\n",
    "from keras import layers "
   ]
  },
  {
   "cell_type": "code",
   "execution_count": 19,
   "id": "c03c59be",
   "metadata": {},
   "outputs": [
    {
     "name": "stdout",
     "output_type": "stream",
     "text": [
      "Model: \"sequential\"\n",
      "_________________________________________________________________\n",
      "Layer (type)                 Output Shape              Param #   \n",
      "=================================================================\n",
      "embedding (Embedding)        (None, 100, 200)          1470000   \n",
      "_________________________________________________________________\n",
      "conv1d (Conv1D)              (None, 96, 128)           128128    \n",
      "_________________________________________________________________\n",
      "global_max_pooling1d (Global (None, 128)               0         \n",
      "_________________________________________________________________\n",
      "dense (Dense)                (None, 10)                1290      \n",
      "_________________________________________________________________\n",
      "dense_1 (Dense)              (None, 1)                 11        \n",
      "=================================================================\n",
      "Total params: 1,599,429\n",
      "Trainable params: 1,599,429\n",
      "Non-trainable params: 0\n",
      "_________________________________________________________________\n"
     ]
    }
   ],
   "source": [
    "# making models using layers in it.\n",
    "\n",
    "embedding_dim = 200\n",
    "textcnnmodel = Sequential()\n",
    "textcnnmodel.add(layers.Embedding(vocab_size, embedding_dim, input_length=maxlen))\n",
    "textcnnmodel.add(layers.Conv1D(128, 5, activation='relu'))\n",
    "textcnnmodel.add(layers.GlobalMaxPooling1D())\n",
    "textcnnmodel.add(layers.Dense(10, activation='relu'))\n",
    "textcnnmodel.add(layers.Dense(1, activation='sigmoid'))\n",
    "textcnnmodel.compile(optimizer='adam',\n",
    "               loss='binary_crossentropy',\n",
    "               metrics=['accuracy'])\n",
    "textcnnmodel.summary()"
   ]
  },
  {
   "cell_type": "code",
   "execution_count": 20,
   "id": "dcf8dbfb",
   "metadata": {},
   "outputs": [
    {
     "name": "stdout",
     "output_type": "stream",
     "text": [
      "Training Accuracy: 1.0000\n",
      "Testing Accuracy: 0.8053\n"
     ]
    }
   ],
   "source": [
    "## let's fit the model and checking for accuracy\n",
    "\n",
    "textcnnmodel.fit(Xcnn_train, label_train,\n",
    "                epochs=10,\n",
    "                verbose=False,\n",
    "                validation_data=(Xcnn_test, label_test), \n",
    "                batch_size=10)\n",
    "loss, accuracy = textcnnmodel.evaluate(Xcnn_train, label_train, verbose=False)\n",
    "print(\"Training Accuracy: {:.4f}\".format(accuracy))\n",
    "loss, accuracy = textcnnmodel.evaluate(Xcnn_test, label_test, verbose=False)\n",
    "print(\"Testing Accuracy: {:.4f}\".format(accuracy))\n"
   ]
  },
  {
   "cell_type": "code",
   "execution_count": null,
   "id": "f3aeda72",
   "metadata": {},
   "outputs": [],
   "source": []
  }
 ],
 "metadata": {
  "kernelspec": {
   "display_name": "Python 3 (ipykernel)",
   "language": "python",
   "name": "python3"
  },
  "language_info": {
   "codemirror_mode": {
    "name": "ipython",
    "version": 3
   },
   "file_extension": ".py",
   "mimetype": "text/x-python",
   "name": "python",
   "nbconvert_exporter": "python",
   "pygments_lexer": "ipython3",
   "version": "3.9.5"
  }
 },
 "nbformat": 4,
 "nbformat_minor": 5
}
